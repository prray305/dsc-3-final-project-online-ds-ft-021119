{
 "cells": [
  {
   "cell_type": "markdown",
   "metadata": {},
   "source": [
    "## Final Project Submission\n",
    "\n",
    "Please fill out:\n",
    "* Student name: Paul Raymond\n",
    "* Student pace: Full time\n",
    "* Scheduled project review date/time: \n",
    "* Instructor name: Brandon Lewis\n",
    "* Blog post URL:"
   ]
  },
  {
   "cell_type": "markdown",
   "metadata": {},
   "source": [
    "My primary focus for my Module 3 Project will be executing various classification methods on a set of data. Additionally, I will integrate Time Series and NLP analysis into the worklfow.\n",
    "\n",
    "I've chosen a dataset provided by The New York Times that includes data on articles and comments written during Jan-April 2017 and Jan-April 2018.\n",
    "\n",
    "What I plan to measure is whether features - numerical, categorical, text - can be used to accurately predict which comments are selected by NYTimes editors."
   ]
  },
  {
   "cell_type": "markdown",
   "metadata": {},
   "source": [
    "__Import initial libraries and packages__"
   ]
  },
  {
   "cell_type": "code",
   "execution_count": 3,
   "metadata": {},
   "outputs": [],
   "source": [
    "#import standard libraries and packages\n",
    "import pandas as pd\n",
    "import matplotlib.pyplot as plt\n",
    "%matplotlib inline\n",
    "import numpy as np\n",
    "import seaborn as sns"
   ]
  },
  {
   "cell_type": "code",
   "execution_count": 4,
   "metadata": {},
   "outputs": [],
   "source": [
    "#move to appropriate sections#\n",
    "import statsmodels.api as sm\n",
    "#\n",
    "import warnings\n",
    "warnings.filterwarnings('ignore')\n",
    "#\n",
    "from mpl_toolkits.mplot3d import Axes3D\n",
    "from sklearn.manifold import TSNE\n",
    "from nltk.tokenize import word_tokenize\n",
    "#\n",
    "import itertools\n",
    "#\n",
    "from statsmodels.graphics.tsaplots import plot_acf\n",
    "from statsmodels.graphics.tsaplots import plot_pacf\n",
    "from statsmodels.tsa.arima_model import ARMA\n",
    "import statsmodels.api as sm\n",
    "#\n",
    "from scipy.spatial.distance import euclidean as euc\n",
    "#\n",
    "from sklearn.model_selection import train_test_split\n",
    "from sklearn.decomposition import PCA\n",
    "from sklearn.tree import DecisionTreeClassifier \n",
    "from sklearn.metrics import accuracy_score, roc_curve, auc\n",
    "from sklearn import tree \n",
    "from sklearn.externals.six import StringIO  \n",
    "from IPython.display import Image  \n",
    "from sklearn.tree import export_graphviz\n",
    "# import pydotplus"
   ]
  },
  {
   "cell_type": "markdown",
   "metadata": {},
   "source": [
    "___Exploratory Data Analysis___"
   ]
  },
  {
   "cell_type": "markdown",
   "metadata": {},
   "source": [
    "__Import files and compile the rows__"
   ]
  },
  {
   "cell_type": "markdown",
   "metadata": {},
   "source": [
    "_Create loop to load each file in the Articles folder_"
   ]
  },
  {
   "cell_type": "code",
   "execution_count": 5,
   "metadata": {},
   "outputs": [],
   "source": [
    "#import glob for file upload\n",
    "import glob"
   ]
  },
  {
   "cell_type": "code",
   "execution_count": 6,
   "metadata": {},
   "outputs": [
    {
     "data": {
      "text/html": [
       "<div>\n",
       "<style scoped>\n",
       "    .dataframe tbody tr th:only-of-type {\n",
       "        vertical-align: middle;\n",
       "    }\n",
       "\n",
       "    .dataframe tbody tr th {\n",
       "        vertical-align: top;\n",
       "    }\n",
       "\n",
       "    .dataframe thead th {\n",
       "        text-align: right;\n",
       "    }\n",
       "</style>\n",
       "<table border=\"1\" class=\"dataframe\">\n",
       "  <thead>\n",
       "    <tr style=\"text-align: right;\">\n",
       "      <th></th>\n",
       "      <th>abstract</th>\n",
       "      <th>articleID</th>\n",
       "      <th>articleWordCount</th>\n",
       "      <th>byline</th>\n",
       "      <th>documentType</th>\n",
       "      <th>headline</th>\n",
       "      <th>keywords</th>\n",
       "      <th>multimedia</th>\n",
       "      <th>newDesk</th>\n",
       "      <th>printPage</th>\n",
       "      <th>pubDate</th>\n",
       "      <th>sectionName</th>\n",
       "      <th>snippet</th>\n",
       "      <th>source</th>\n",
       "      <th>typeOfMaterial</th>\n",
       "      <th>webURL</th>\n",
       "    </tr>\n",
       "  </thead>\n",
       "  <tbody>\n",
       "    <tr>\n",
       "      <th>0</th>\n",
       "      <td>NaN</td>\n",
       "      <td>58927e0495d0e0392607e1b3</td>\n",
       "      <td>1129</td>\n",
       "      <td>By KEN BELSON</td>\n",
       "      <td>article</td>\n",
       "      <td>N.F.L. vs. Politics Has Been Battle All Season...</td>\n",
       "      <td>['Football', 'Super Bowl', 'National Football ...</td>\n",
       "      <td>1</td>\n",
       "      <td>Sports</td>\n",
       "      <td>12</td>\n",
       "      <td>2017-02-02 00:26:16</td>\n",
       "      <td>Pro Football</td>\n",
       "      <td>Despite the national tumult over immigration s...</td>\n",
       "      <td>The New York Times</td>\n",
       "      <td>News</td>\n",
       "      <td>https://www.nytimes.com/2017/02/01/sports/supe...</td>\n",
       "    </tr>\n",
       "    <tr>\n",
       "      <th>1</th>\n",
       "      <td>NaN</td>\n",
       "      <td>5893033d95d0e0392607e2d6</td>\n",
       "      <td>3082</td>\n",
       "      <td>By UNKNOWN</td>\n",
       "      <td>article</td>\n",
       "      <td>Voice. Vice. Veracity.</td>\n",
       "      <td>['Television', 'Home Box Office', 'Girls (TV P...</td>\n",
       "      <td>1</td>\n",
       "      <td>Arts&amp;Leisure</td>\n",
       "      <td>1</td>\n",
       "      <td>2017-02-02 10:00:24</td>\n",
       "      <td>Television</td>\n",
       "      <td>Our critics look at the impact of the HBO show...</td>\n",
       "      <td>The New York Times</td>\n",
       "      <td>News</td>\n",
       "      <td>https://www.nytimes.com/2017/02/02/arts/televi...</td>\n",
       "    </tr>\n",
       "    <tr>\n",
       "      <th>2</th>\n",
       "      <td>NaN</td>\n",
       "      <td>5893039595d0e0392607e2da</td>\n",
       "      <td>693</td>\n",
       "      <td>By MANOHLA DARGIS</td>\n",
       "      <td>article</td>\n",
       "      <td>A Stand-Up’s Downward Slide</td>\n",
       "      <td>['Movies', 'The Comedian (Movie)', 'De Niro, R...</td>\n",
       "      <td>1</td>\n",
       "      <td>Weekend</td>\n",
       "      <td>5</td>\n",
       "      <td>2017-02-02 10:01:53</td>\n",
       "      <td>Unknown</td>\n",
       "      <td>Joined by a cast that includes Edie Falco and ...</td>\n",
       "      <td>The New York Times</td>\n",
       "      <td>Review</td>\n",
       "      <td>https://www.nytimes.com/2017/02/02/movies/the-...</td>\n",
       "    </tr>\n",
       "    <tr>\n",
       "      <th>3</th>\n",
       "      <td>NaN</td>\n",
       "      <td>5893109995d0e0392607e2ef</td>\n",
       "      <td>1049</td>\n",
       "      <td>By ALEXANDRA S. LEVINE</td>\n",
       "      <td>article</td>\n",
       "      <td>New York Today: A Groundhog Has Her Day</td>\n",
       "      <td>['New York City', 'Groundhogs']</td>\n",
       "      <td>1</td>\n",
       "      <td>Metro</td>\n",
       "      <td>0</td>\n",
       "      <td>2017-02-02 10:57:25</td>\n",
       "      <td>Unknown</td>\n",
       "      <td>Thursday: A meet-and-greet with Staten Island ...</td>\n",
       "      <td>The New York Times</td>\n",
       "      <td>briefing</td>\n",
       "      <td>https://www.nytimes.com/2017/02/02/nyregion/ne...</td>\n",
       "    </tr>\n",
       "    <tr>\n",
       "      <th>4</th>\n",
       "      <td>NaN</td>\n",
       "      <td>5893114495d0e0392607e2f1</td>\n",
       "      <td>1283</td>\n",
       "      <td>By BONNIE TSUI</td>\n",
       "      <td>article</td>\n",
       "      <td>A Swimmer’s Communion With the Ocean</td>\n",
       "      <td>['Travel and Vacations', 'Swimming', 'Oceans a...</td>\n",
       "      <td>1</td>\n",
       "      <td>Travel</td>\n",
       "      <td>4</td>\n",
       "      <td>2017-02-02 11:00:03</td>\n",
       "      <td>Unknown</td>\n",
       "      <td>“We swam in that heaving body of aquamarine, a...</td>\n",
       "      <td>The New York Times</td>\n",
       "      <td>News</td>\n",
       "      <td>https://www.nytimes.com/2017/02/02/travel/hawa...</td>\n",
       "    </tr>\n",
       "  </tbody>\n",
       "</table>\n",
       "</div>"
      ],
      "text/plain": [
       "  abstract                 articleID  articleWordCount  \\\n",
       "0      NaN  58927e0495d0e0392607e1b3              1129   \n",
       "1      NaN  5893033d95d0e0392607e2d6              3082   \n",
       "2      NaN  5893039595d0e0392607e2da               693   \n",
       "3      NaN  5893109995d0e0392607e2ef              1049   \n",
       "4      NaN  5893114495d0e0392607e2f1              1283   \n",
       "\n",
       "                   byline documentType  \\\n",
       "0           By KEN BELSON      article   \n",
       "1              By UNKNOWN      article   \n",
       "2       By MANOHLA DARGIS      article   \n",
       "3  By ALEXANDRA S. LEVINE      article   \n",
       "4          By BONNIE TSUI      article   \n",
       "\n",
       "                                            headline  \\\n",
       "0  N.F.L. vs. Politics Has Been Battle All Season...   \n",
       "1                             Voice. Vice. Veracity.   \n",
       "2                        A Stand-Up’s Downward Slide   \n",
       "3            New York Today: A Groundhog Has Her Day   \n",
       "4               A Swimmer’s Communion With the Ocean   \n",
       "\n",
       "                                            keywords  multimedia  \\\n",
       "0  ['Football', 'Super Bowl', 'National Football ...           1   \n",
       "1  ['Television', 'Home Box Office', 'Girls (TV P...           1   \n",
       "2  ['Movies', 'The Comedian (Movie)', 'De Niro, R...           1   \n",
       "3                    ['New York City', 'Groundhogs']           1   \n",
       "4  ['Travel and Vacations', 'Swimming', 'Oceans a...           1   \n",
       "\n",
       "        newDesk  printPage              pubDate   sectionName  \\\n",
       "0        Sports         12  2017-02-02 00:26:16  Pro Football   \n",
       "1  Arts&Leisure          1  2017-02-02 10:00:24    Television   \n",
       "2       Weekend          5  2017-02-02 10:01:53       Unknown   \n",
       "3         Metro          0  2017-02-02 10:57:25       Unknown   \n",
       "4        Travel          4  2017-02-02 11:00:03       Unknown   \n",
       "\n",
       "                                             snippet              source  \\\n",
       "0  Despite the national tumult over immigration s...  The New York Times   \n",
       "1  Our critics look at the impact of the HBO show...  The New York Times   \n",
       "2  Joined by a cast that includes Edie Falco and ...  The New York Times   \n",
       "3  Thursday: A meet-and-greet with Staten Island ...  The New York Times   \n",
       "4  “We swam in that heaving body of aquamarine, a...  The New York Times   \n",
       "\n",
       "  typeOfMaterial                                             webURL  \n",
       "0           News  https://www.nytimes.com/2017/02/01/sports/supe...  \n",
       "1           News  https://www.nytimes.com/2017/02/02/arts/televi...  \n",
       "2         Review  https://www.nytimes.com/2017/02/02/movies/the-...  \n",
       "3       briefing  https://www.nytimes.com/2017/02/02/nyregion/ne...  \n",
       "4           News  https://www.nytimes.com/2017/02/02/travel/hawa...  "
      ]
     },
     "execution_count": 6,
     "metadata": {},
     "output_type": "execute_result"
    }
   ],
   "source": [
    "path = '/Users/paulraymond/Downloads/nyt-comments/Articles'\n",
    "all_files = glob.glob(path + \"/*\")\n",
    "\n",
    "files = []\n",
    "\n",
    "for filename in all_files:\n",
    "    df = pd.read_csv(filename, index_col = None, header=0)\n",
    "    files.append(df)\n",
    "    \n",
    "articles = pd.concat(files, axis=0, ignore_index=True)\n",
    "articles.head()"
   ]
  },
  {
   "cell_type": "code",
   "execution_count": 7,
   "metadata": {},
   "outputs": [
    {
     "name": "stdout",
     "output_type": "stream",
     "text": [
      "<class 'pandas.core.frame.DataFrame'>\n",
      "RangeIndex: 8339 entries, 0 to 8338\n",
      "Data columns (total 16 columns):\n",
      "abstract            134 non-null object\n",
      "articleID           8339 non-null object\n",
      "articleWordCount    8339 non-null int64\n",
      "byline              8339 non-null object\n",
      "documentType        8339 non-null object\n",
      "headline            8339 non-null object\n",
      "keywords            8339 non-null object\n",
      "multimedia          8339 non-null int64\n",
      "newDesk             8339 non-null object\n",
      "printPage           8339 non-null int64\n",
      "pubDate             8339 non-null object\n",
      "sectionName         8339 non-null object\n",
      "snippet             8339 non-null object\n",
      "source              8339 non-null object\n",
      "typeOfMaterial      8339 non-null object\n",
      "webURL              8339 non-null object\n",
      "dtypes: int64(3), object(13)\n",
      "memory usage: 1.0+ MB\n"
     ]
    }
   ],
   "source": [
    "# view the columns and row info\n",
    "articles.info()"
   ]
  },
  {
   "cell_type": "markdown",
   "metadata": {},
   "source": [
    "Will need to convert pubDate to a date type"
   ]
  },
  {
   "cell_type": "code",
   "execution_count": 8,
   "metadata": {},
   "outputs": [
    {
     "data": {
      "text/html": [
       "<div>\n",
       "<style scoped>\n",
       "    .dataframe tbody tr th:only-of-type {\n",
       "        vertical-align: middle;\n",
       "    }\n",
       "\n",
       "    .dataframe tbody tr th {\n",
       "        vertical-align: top;\n",
       "    }\n",
       "\n",
       "    .dataframe thead th {\n",
       "        text-align: right;\n",
       "    }\n",
       "</style>\n",
       "<table border=\"1\" class=\"dataframe\">\n",
       "  <thead>\n",
       "    <tr style=\"text-align: right;\">\n",
       "      <th></th>\n",
       "      <th>articleWordCount</th>\n",
       "      <th>multimedia</th>\n",
       "      <th>printPage</th>\n",
       "    </tr>\n",
       "  </thead>\n",
       "  <tbody>\n",
       "    <tr>\n",
       "      <th>count</th>\n",
       "      <td>8339.000000</td>\n",
       "      <td>8339.000000</td>\n",
       "      <td>8339.000000</td>\n",
       "    </tr>\n",
       "    <tr>\n",
       "      <th>mean</th>\n",
       "      <td>1109.057321</td>\n",
       "      <td>27.795899</td>\n",
       "      <td>6.738938</td>\n",
       "    </tr>\n",
       "    <tr>\n",
       "      <th>std</th>\n",
       "      <td>831.475454</td>\n",
       "      <td>32.052564</td>\n",
       "      <td>10.145362</td>\n",
       "    </tr>\n",
       "    <tr>\n",
       "      <th>min</th>\n",
       "      <td>11.000000</td>\n",
       "      <td>0.000000</td>\n",
       "      <td>0.000000</td>\n",
       "    </tr>\n",
       "    <tr>\n",
       "      <th>25%</th>\n",
       "      <td>731.500000</td>\n",
       "      <td>1.000000</td>\n",
       "      <td>0.000000</td>\n",
       "    </tr>\n",
       "    <tr>\n",
       "      <th>50%</th>\n",
       "      <td>1008.000000</td>\n",
       "      <td>3.000000</td>\n",
       "      <td>1.000000</td>\n",
       "    </tr>\n",
       "    <tr>\n",
       "      <th>75%</th>\n",
       "      <td>1322.500000</td>\n",
       "      <td>68.000000</td>\n",
       "      <td>11.000000</td>\n",
       "    </tr>\n",
       "    <tr>\n",
       "      <th>max</th>\n",
       "      <td>16336.000000</td>\n",
       "      <td>68.000000</td>\n",
       "      <td>198.000000</td>\n",
       "    </tr>\n",
       "  </tbody>\n",
       "</table>\n",
       "</div>"
      ],
      "text/plain": [
       "       articleWordCount   multimedia    printPage\n",
       "count       8339.000000  8339.000000  8339.000000\n",
       "mean        1109.057321    27.795899     6.738938\n",
       "std          831.475454    32.052564    10.145362\n",
       "min           11.000000     0.000000     0.000000\n",
       "25%          731.500000     1.000000     0.000000\n",
       "50%         1008.000000     3.000000     1.000000\n",
       "75%         1322.500000    68.000000    11.000000\n",
       "max        16336.000000    68.000000   198.000000"
      ]
     },
     "execution_count": 8,
     "metadata": {},
     "output_type": "execute_result"
    }
   ],
   "source": [
    "# View info on numerical columns\n",
    "articles.describe()"
   ]
  },
  {
   "cell_type": "code",
   "execution_count": 9,
   "metadata": {},
   "outputs": [],
   "source": [
    "# what is article breakdown by type of material?\n",
    "material_articles = articles.groupby('typeOfMaterial')['articleID'].count().sort_values(ascending=False)\n",
    "# material_articles"
   ]
  },
  {
   "cell_type": "code",
   "execution_count": 10,
   "metadata": {},
   "outputs": [],
   "source": [
    "#what is article breakdown by category?\n",
    "category_articles = articles.groupby('newDesk')['articleID'].count().sort_values(ascending=False)\n",
    "# category_articles"
   ]
  },
  {
   "cell_type": "markdown",
   "metadata": {},
   "source": [
    "Which article was 11 words?"
   ]
  },
  {
   "cell_type": "code",
   "execution_count": 11,
   "metadata": {},
   "outputs": [],
   "source": [
    "shortest_article = articles.loc[articles['articleWordCount'] == 11]\n",
    "# shortest_article"
   ]
  },
  {
   "cell_type": "markdown",
   "metadata": {},
   "source": [
    "16K+ words?"
   ]
  },
  {
   "cell_type": "code",
   "execution_count": 12,
   "metadata": {},
   "outputs": [],
   "source": [
    "longest_article = articles.loc[articles['articleWordCount'] == 16336]\n",
    "# longest_article"
   ]
  },
  {
   "cell_type": "markdown",
   "metadata": {},
   "source": [
    "_Group data by various categories_ "
   ]
  },
  {
   "cell_type": "code",
   "execution_count": 13,
   "metadata": {},
   "outputs": [
    {
     "data": {
      "text/plain": [
       "byline\n",
       "By THE EDITORIAL BOARD     170169\n",
       "By DEB AMLEN               136485\n",
       "By THE LEARNING NETWORK     94823\n",
       "By ALEXANDRA S. LEVINE      85997\n",
       "By PAUL KRUGMAN             79564\n",
       "Name: articleWordCount, dtype: int64"
      ]
     },
     "execution_count": 13,
     "metadata": {},
     "output_type": "execute_result"
    }
   ],
   "source": [
    "total_words_author = articles.groupby('byline')['articleWordCount'].sum().sort_values(ascending=False)\n",
    "total_words_author.head()"
   ]
  },
  {
   "cell_type": "code",
   "execution_count": 14,
   "metadata": {},
   "outputs": [
    {
     "data": {
      "text/plain": [
       "byline\n",
       "By DEB AMLEN                  233\n",
       "By THE EDITORIAL BOARD        224\n",
       "By CAROLINE CROSSON GILPIN    159\n",
       "By NATALIE PROULX             111\n",
       "By PAUL KRUGMAN               103\n",
       "Name: byline, dtype: int64"
      ]
     },
     "execution_count": 14,
     "metadata": {},
     "output_type": "execute_result"
    }
   ],
   "source": [
    "total_articles_author = articles.groupby('byline')['byline'].count().sort_values(ascending=False)\n",
    "total_articles_author.head()"
   ]
  },
  {
   "cell_type": "markdown",
   "metadata": {},
   "source": [
    "__Check for normality and multicolinearity__"
   ]
  },
  {
   "cell_type": "markdown",
   "metadata": {},
   "source": [
    "_Complete exploratory analysis on the Articles data_"
   ]
  },
  {
   "cell_type": "code",
   "execution_count": 15,
   "metadata": {},
   "outputs": [
    {
     "data": {
      "text/plain": [
       "array([[<matplotlib.axes._subplots.AxesSubplot object at 0x112ddab70>,\n",
       "        <matplotlib.axes._subplots.AxesSubplot object at 0x112e27dd8>],\n",
       "       [<matplotlib.axes._subplots.AxesSubplot object at 0x112f20080>,\n",
       "        <matplotlib.axes._subplots.AxesSubplot object at 0x112f482e8>]],\n",
       "      dtype=object)"
      ]
     },
     "execution_count": 15,
     "metadata": {},
     "output_type": "execute_result"
    },
    {
     "data": {
      "image/png": "[encoded data removed]",
      "text/plain": [
       "<Figure size 720x576 with 4 Axes>"
      ]
     },
     "metadata": {
      "needs_background": "light"
     },
     "output_type": "display_data"
    }
   ],
   "source": [
    "articles.hist(figsize=(10,8))"
   ]
  },
  {
   "cell_type": "code",
   "execution_count": 16,
   "metadata": {},
   "outputs": [],
   "source": [
    "# normalize data\n",
    "articles_scale = pd.DataFrame()\n",
    "articles_scale['articleWordCount'] = (articles['articleWordCount'] - articles['articleWordCount'].min())/(articles['articleWordCount'].max()-articles['articleWordCount'].min())\n",
    "articles_scale['multimedia'] = (articles['multimedia'] - articles['multimedia'].min()) / (articles['multimedia'].max()- articles['multimedia'].min())\n",
    "articles_scale['printPage'] = (articles['printPage']- articles['printPage'].min()) / (articles['printPage'].max()- articles['printPage'].min())"
   ]
  },
  {
   "cell_type": "code",
   "execution_count": 17,
   "metadata": {},
   "outputs": [
    {
     "data": {
      "text/plain": [
       "array([[<matplotlib.axes._subplots.AxesSubplot object at 0x11305c4a8>,\n",
       "        <matplotlib.axes._subplots.AxesSubplot object at 0x1c19cae198>],\n",
       "       [<matplotlib.axes._subplots.AxesSubplot object at 0x1c19cd3710>,\n",
       "        <matplotlib.axes._subplots.AxesSubplot object at 0x1c19cfcc88>]],\n",
       "      dtype=object)"
      ]
     },
     "execution_count": 17,
     "metadata": {},
     "output_type": "execute_result"
    },
    {
     "data": {
      "image/png": "[encoded data removed]",
      "text/plain": [
       "<Figure size 432x288 with 4 Axes>"
      ]
     },
     "metadata": {
      "needs_background": "light"
     },
     "output_type": "display_data"
    }
   ],
   "source": [
    "articles_scale.hist()"
   ]
  },
  {
   "cell_type": "code",
   "execution_count": 18,
   "metadata": {},
   "outputs": [
    {
     "data": {
      "text/html": [
       "<div>\n",
       "<style scoped>\n",
       "    .dataframe tbody tr th:only-of-type {\n",
       "        vertical-align: middle;\n",
       "    }\n",
       "\n",
       "    .dataframe tbody tr th {\n",
       "        vertical-align: top;\n",
       "    }\n",
       "\n",
       "    .dataframe thead th {\n",
       "        text-align: right;\n",
       "    }\n",
       "</style>\n",
       "<table border=\"1\" class=\"dataframe\">\n",
       "  <thead>\n",
       "    <tr style=\"text-align: right;\">\n",
       "      <th></th>\n",
       "      <th>articleWordCount</th>\n",
       "      <th>multimedia</th>\n",
       "      <th>printPage</th>\n",
       "    </tr>\n",
       "  </thead>\n",
       "  <tbody>\n",
       "    <tr>\n",
       "      <th>count</th>\n",
       "      <td>8339.000000</td>\n",
       "      <td>8339.000000</td>\n",
       "      <td>8339.000000</td>\n",
       "    </tr>\n",
       "    <tr>\n",
       "      <th>mean</th>\n",
       "      <td>0.067262</td>\n",
       "      <td>0.408763</td>\n",
       "      <td>0.034035</td>\n",
       "    </tr>\n",
       "    <tr>\n",
       "      <th>std</th>\n",
       "      <td>0.050933</td>\n",
       "      <td>0.471361</td>\n",
       "      <td>0.051239</td>\n",
       "    </tr>\n",
       "    <tr>\n",
       "      <th>min</th>\n",
       "      <td>0.000000</td>\n",
       "      <td>0.000000</td>\n",
       "      <td>0.000000</td>\n",
       "    </tr>\n",
       "    <tr>\n",
       "      <th>25%</th>\n",
       "      <td>0.044135</td>\n",
       "      <td>0.014706</td>\n",
       "      <td>0.000000</td>\n",
       "    </tr>\n",
       "    <tr>\n",
       "      <th>50%</th>\n",
       "      <td>0.061072</td>\n",
       "      <td>0.044118</td>\n",
       "      <td>0.005051</td>\n",
       "    </tr>\n",
       "    <tr>\n",
       "      <th>75%</th>\n",
       "      <td>0.080337</td>\n",
       "      <td>1.000000</td>\n",
       "      <td>0.055556</td>\n",
       "    </tr>\n",
       "    <tr>\n",
       "      <th>max</th>\n",
       "      <td>1.000000</td>\n",
       "      <td>1.000000</td>\n",
       "      <td>1.000000</td>\n",
       "    </tr>\n",
       "  </tbody>\n",
       "</table>\n",
       "</div>"
      ],
      "text/plain": [
       "       articleWordCount   multimedia    printPage\n",
       "count       8339.000000  8339.000000  8339.000000\n",
       "mean           0.067262     0.408763     0.034035\n",
       "std            0.050933     0.471361     0.051239\n",
       "min            0.000000     0.000000     0.000000\n",
       "25%            0.044135     0.014706     0.000000\n",
       "50%            0.061072     0.044118     0.005051\n",
       "75%            0.080337     1.000000     0.055556\n",
       "max            1.000000     1.000000     1.000000"
      ]
     },
     "execution_count": 18,
     "metadata": {},
     "output_type": "execute_result"
    }
   ],
   "source": [
    "articles_scale.describe()"
   ]
  },
  {
   "cell_type": "code",
   "execution_count": 19,
   "metadata": {},
   "outputs": [
    {
     "data": {
      "text/plain": [
       "307"
      ]
     },
     "execution_count": 19,
     "metadata": {},
     "output_type": "execute_result"
    }
   ],
   "source": [
    "#drop rows with word count of zero?\n",
    "np.sum(articles_scale['multimedia']== 0.0)"
   ]
  },
  {
   "cell_type": "code",
   "execution_count": 20,
   "metadata": {},
   "outputs": [],
   "source": [
    "# articles_scale['articleWordCount']"
   ]
  },
  {
   "cell_type": "code",
   "execution_count": 21,
   "metadata": {},
   "outputs": [],
   "source": [
    "articles_scale = articles_scale[articles_scale['articleWordCount'] != 0.0]\n",
    "# articles_scale_new.describe()"
   ]
  },
  {
   "cell_type": "code",
   "execution_count": 22,
   "metadata": {},
   "outputs": [
    {
     "data": {
      "text/plain": [
       "array([[<matplotlib.axes._subplots.AxesSubplot object at 0x1c19e4db00>,\n",
       "        <matplotlib.axes._subplots.AxesSubplot object at 0x1c19e90c18>],\n",
       "       [<matplotlib.axes._subplots.AxesSubplot object at 0x1c19dade80>,\n",
       "        <matplotlib.axes._subplots.AxesSubplot object at 0x1c19ddf128>]],\n",
       "      dtype=object)"
      ]
     },
     "execution_count": 22,
     "metadata": {},
     "output_type": "execute_result"
    },
    {
     "data": {
      "image/png": "[encoded data removed]",
      "text/plain": [
       "<Figure size 432x288 with 4 Axes>"
      ]
     },
     "metadata": {
      "needs_background": "light"
     },
     "output_type": "display_data"
    }
   ],
   "source": [
    "# complete log transformation\n",
    "articles_scale_log = pd.DataFrame()\n",
    "articles_scale_log['articleWordCount'] = np.log(articles_scale['articleWordCount']+.0001)\n",
    "articles_scale_log['multimedia'] = np.log(articles_scale['multimedia']+.0001)\n",
    "articles_scale_log['printPage'] = np.log(articles_scale['printPage']+.0001)\n",
    "articles_scale_log.hist()"
   ]
  },
  {
   "cell_type": "markdown",
   "metadata": {},
   "source": [
    "The log transformation made the 'articleWordCount' column more normally distributed. "
   ]
  },
  {
   "cell_type": "markdown",
   "metadata": {},
   "source": [
    "I'll now perform one-hot encoding on the 'newDesk' category alone; other categories not much valuable given the added dimensionality."
   ]
  },
  {
   "cell_type": "code",
   "execution_count": 23,
   "metadata": {},
   "outputs": [],
   "source": [
    "#create df for category data\n",
    "articles_cat = articles['newDesk']"
   ]
  },
  {
   "cell_type": "code",
   "execution_count": 24,
   "metadata": {},
   "outputs": [
    {
     "data": {
      "text/html": [
       "<div>\n",
       "<style scoped>\n",
       "    .dataframe tbody tr th:only-of-type {\n",
       "        vertical-align: middle;\n",
       "    }\n",
       "\n",
       "    .dataframe tbody tr th {\n",
       "        vertical-align: top;\n",
       "    }\n",
       "\n",
       "    .dataframe thead th {\n",
       "        text-align: right;\n",
       "    }\n",
       "</style>\n",
       "<table border=\"1\" class=\"dataframe\">\n",
       "  <thead>\n",
       "    <tr style=\"text-align: right;\">\n",
       "      <th></th>\n",
       "      <th>Arts&amp;Leisure</th>\n",
       "      <th>BookReview</th>\n",
       "      <th>Business</th>\n",
       "      <th>Climate</th>\n",
       "      <th>Culture</th>\n",
       "      <th>Dining</th>\n",
       "      <th>EdLife</th>\n",
       "      <th>Editorial</th>\n",
       "      <th>Express</th>\n",
       "      <th>Foreign</th>\n",
       "      <th>...</th>\n",
       "      <th>Summary</th>\n",
       "      <th>SundayBusiness</th>\n",
       "      <th>TStyle</th>\n",
       "      <th>Travel</th>\n",
       "      <th>Unknown</th>\n",
       "      <th>Upshot</th>\n",
       "      <th>Video</th>\n",
       "      <th>Washington</th>\n",
       "      <th>Weekend</th>\n",
       "      <th>Well</th>\n",
       "    </tr>\n",
       "  </thead>\n",
       "  <tbody>\n",
       "    <tr>\n",
       "      <th>0</th>\n",
       "      <td>0</td>\n",
       "      <td>0</td>\n",
       "      <td>0</td>\n",
       "      <td>0</td>\n",
       "      <td>0</td>\n",
       "      <td>0</td>\n",
       "      <td>0</td>\n",
       "      <td>0</td>\n",
       "      <td>0</td>\n",
       "      <td>0</td>\n",
       "      <td>...</td>\n",
       "      <td>0</td>\n",
       "      <td>0</td>\n",
       "      <td>0</td>\n",
       "      <td>0</td>\n",
       "      <td>0</td>\n",
       "      <td>0</td>\n",
       "      <td>0</td>\n",
       "      <td>0</td>\n",
       "      <td>0</td>\n",
       "      <td>0</td>\n",
       "    </tr>\n",
       "    <tr>\n",
       "      <th>1</th>\n",
       "      <td>1</td>\n",
       "      <td>0</td>\n",
       "      <td>0</td>\n",
       "      <td>0</td>\n",
       "      <td>0</td>\n",
       "      <td>0</td>\n",
       "      <td>0</td>\n",
       "      <td>0</td>\n",
       "      <td>0</td>\n",
       "      <td>0</td>\n",
       "      <td>...</td>\n",
       "      <td>0</td>\n",
       "      <td>0</td>\n",
       "      <td>0</td>\n",
       "      <td>0</td>\n",
       "      <td>0</td>\n",
       "      <td>0</td>\n",
       "      <td>0</td>\n",
       "      <td>0</td>\n",
       "      <td>0</td>\n",
       "      <td>0</td>\n",
       "    </tr>\n",
       "    <tr>\n",
       "      <th>2</th>\n",
       "      <td>0</td>\n",
       "      <td>0</td>\n",
       "      <td>0</td>\n",
       "      <td>0</td>\n",
       "      <td>0</td>\n",
       "      <td>0</td>\n",
       "      <td>0</td>\n",
       "      <td>0</td>\n",
       "      <td>0</td>\n",
       "      <td>0</td>\n",
       "      <td>...</td>\n",
       "      <td>0</td>\n",
       "      <td>0</td>\n",
       "      <td>0</td>\n",
       "      <td>0</td>\n",
       "      <td>0</td>\n",
       "      <td>0</td>\n",
       "      <td>0</td>\n",
       "      <td>0</td>\n",
       "      <td>1</td>\n",
       "      <td>0</td>\n",
       "    </tr>\n",
       "    <tr>\n",
       "      <th>3</th>\n",
       "      <td>0</td>\n",
       "      <td>0</td>\n",
       "      <td>0</td>\n",
       "      <td>0</td>\n",
       "      <td>0</td>\n",
       "      <td>0</td>\n",
       "      <td>0</td>\n",
       "      <td>0</td>\n",
       "      <td>0</td>\n",
       "      <td>0</td>\n",
       "      <td>...</td>\n",
       "      <td>0</td>\n",
       "      <td>0</td>\n",
       "      <td>0</td>\n",
       "      <td>0</td>\n",
       "      <td>0</td>\n",
       "      <td>0</td>\n",
       "      <td>0</td>\n",
       "      <td>0</td>\n",
       "      <td>0</td>\n",
       "      <td>0</td>\n",
       "    </tr>\n",
       "    <tr>\n",
       "      <th>4</th>\n",
       "      <td>0</td>\n",
       "      <td>0</td>\n",
       "      <td>0</td>\n",
       "      <td>0</td>\n",
       "      <td>0</td>\n",
       "      <td>0</td>\n",
       "      <td>0</td>\n",
       "      <td>0</td>\n",
       "      <td>0</td>\n",
       "      <td>0</td>\n",
       "      <td>...</td>\n",
       "      <td>0</td>\n",
       "      <td>0</td>\n",
       "      <td>0</td>\n",
       "      <td>1</td>\n",
       "      <td>0</td>\n",
       "      <td>0</td>\n",
       "      <td>0</td>\n",
       "      <td>0</td>\n",
       "      <td>0</td>\n",
       "      <td>0</td>\n",
       "    </tr>\n",
       "  </tbody>\n",
       "</table>\n",
       "<p>5 rows × 43 columns</p>\n",
       "</div>"
      ],
      "text/plain": [
       "   Arts&Leisure  BookReview  Business  Climate  Culture  Dining  EdLife  \\\n",
       "0             0           0         0        0        0       0       0   \n",
       "1             1           0         0        0        0       0       0   \n",
       "2             0           0         0        0        0       0       0   \n",
       "3             0           0         0        0        0       0       0   \n",
       "4             0           0         0        0        0       0       0   \n",
       "\n",
       "   Editorial  Express  Foreign  ...   Summary  SundayBusiness  TStyle  Travel  \\\n",
       "0          0        0        0  ...         0               0       0       0   \n",
       "1          0        0        0  ...         0               0       0       0   \n",
       "2          0        0        0  ...         0               0       0       0   \n",
       "3          0        0        0  ...         0               0       0       0   \n",
       "4          0        0        0  ...         0               0       0       1   \n",
       "\n",
       "   Unknown  Upshot  Video  Washington  Weekend  Well  \n",
       "0        0       0      0           0        0     0  \n",
       "1        0       0      0           0        0     0  \n",
       "2        0       0      0           0        1     0  \n",
       "3        0       0      0           0        0     0  \n",
       "4        0       0      0           0        0     0  \n",
       "\n",
       "[5 rows x 43 columns]"
      ]
     },
     "execution_count": 24,
     "metadata": {},
     "output_type": "execute_result"
    }
   ],
   "source": [
    "#perform one-hot encoding\n",
    "articles_scale_one_hot = pd.get_dummies(articles_cat)\n",
    "articles_scale_one_hot.head()"
   ]
  },
  {
   "cell_type": "code",
   "execution_count": 25,
   "metadata": {},
   "outputs": [
    {
     "data": {
      "text/plain": [
       "(8339, 46)"
      ]
     },
     "execution_count": 25,
     "metadata": {},
     "output_type": "execute_result"
    }
   ],
   "source": [
    "#concat the numerical and categorical dataframes\n",
    "df_articles = pd.concat([articles_scale_log, articles_scale_one_hot], axis=1)\n",
    "df_articles.shape"
   ]
  },
  {
   "cell_type": "code",
   "execution_count": 26,
   "metadata": {},
   "outputs": [
    {
     "data": {
      "text/plain": [
       "<matplotlib.axes._subplots.AxesSubplot at 0x1c18189f60>"
      ]
     },
     "execution_count": 26,
     "metadata": {},
     "output_type": "execute_result"
    },
    {
     "data": {
      "image/png": "[encoded data removed]",
      "text/plain": [
       "<Figure size 720x576 with 2 Axes>"
      ]
     },
     "metadata": {},
     "output_type": "display_data"
    }
   ],
   "source": [
    "#plot covariance matrix\n",
    "sns.set(style='white')\n",
    "corr = df_articles.corr()\n",
    "mask = np.zeros_like(corr, dtype=np.bool)\n",
    "mask[np.triu_indices_from(mask)] = True\n",
    "\n",
    "f, ax = plt.subplots(figsize=(10,8))\n",
    "\n",
    "cmap = sns.diverging_palette(220, 10, as_cmap=True)\n",
    "\n",
    "sns.heatmap(corr, mask=mask, cmap=cmap, vmax=.3, center=0, square=True, linewidths=.5, cbar_kws={'shrink': .5})"
   ]
  },
  {
   "cell_type": "markdown",
   "metadata": {},
   "source": [
    "Not much correlation among the categories in the article dataset."
   ]
  },
  {
   "cell_type": "markdown",
   "metadata": {},
   "source": [
    "I'll do the same exploratory analysis process for comments."
   ]
  },
  {
   "cell_type": "markdown",
   "metadata": {},
   "source": [
    "_Create loop to import comment files_"
   ]
  },
  {
   "cell_type": "code",
   "execution_count": 27,
   "metadata": {},
   "outputs": [],
   "source": [
    "path2 = '/Users/paulraymond/Downloads/nyt-comments/Comments'\n",
    "all_files2 = glob.glob(path2 + \"/*\")\n",
    "\n",
    "files2 = []\n",
    "\n",
    "for filename in all_files2:\n",
    "    df = pd.read_csv(filename, index_col = None, header=0)\n",
    "    files2.append(df)\n",
    "    \n",
    "comments = pd.concat(files2, axis=0, ignore_index=True)"
   ]
  },
  {
   "cell_type": "code",
   "execution_count": 28,
   "metadata": {},
   "outputs": [
    {
     "data": {
      "text/html": [
       "<div>\n",
       "<style scoped>\n",
       "    .dataframe tbody tr th:only-of-type {\n",
       "        vertical-align: middle;\n",
       "    }\n",
       "\n",
       "    .dataframe tbody tr th {\n",
       "        vertical-align: top;\n",
       "    }\n",
       "\n",
       "    .dataframe thead th {\n",
       "        text-align: right;\n",
       "    }\n",
       "</style>\n",
       "<table border=\"1\" class=\"dataframe\">\n",
       "  <thead>\n",
       "    <tr style=\"text-align: right;\">\n",
       "      <th></th>\n",
       "      <th>approveDate</th>\n",
       "      <th>articleID</th>\n",
       "      <th>articleWordCount</th>\n",
       "      <th>commentBody</th>\n",
       "      <th>commentID</th>\n",
       "      <th>commentSequence</th>\n",
       "      <th>commentTitle</th>\n",
       "      <th>commentType</th>\n",
       "      <th>createDate</th>\n",
       "      <th>depth</th>\n",
       "      <th>...</th>\n",
       "      <th>status</th>\n",
       "      <th>timespeople</th>\n",
       "      <th>trusted</th>\n",
       "      <th>typeOfMaterial</th>\n",
       "      <th>updateDate</th>\n",
       "      <th>userDisplayName</th>\n",
       "      <th>userID</th>\n",
       "      <th>userLocation</th>\n",
       "      <th>userTitle</th>\n",
       "      <th>userURL</th>\n",
       "    </tr>\n",
       "  </thead>\n",
       "  <tbody>\n",
       "    <tr>\n",
       "      <th>0</th>\n",
       "      <td>1517529462</td>\n",
       "      <td>5a7258e410f40f00018bed7d</td>\n",
       "      <td>835.0</td>\n",
       "      <td>The snake-filled heads comment made me think o...</td>\n",
       "      <td>25791250.0</td>\n",
       "      <td>25791250.0</td>\n",
       "      <td>&lt;br/&gt;</td>\n",
       "      <td>comment</td>\n",
       "      <td>1.517508e+09</td>\n",
       "      <td>1.0</td>\n",
       "      <td>...</td>\n",
       "      <td>approved</td>\n",
       "      <td>1.0</td>\n",
       "      <td>0.0</td>\n",
       "      <td>Op-Ed</td>\n",
       "      <td>1517529462</td>\n",
       "      <td>Jennie</td>\n",
       "      <td>79172841.0</td>\n",
       "      <td>WA</td>\n",
       "      <td>NaN</td>\n",
       "      <td>NaN</td>\n",
       "    </tr>\n",
       "    <tr>\n",
       "      <th>1</th>\n",
       "      <td>1517529428</td>\n",
       "      <td>5a7258e410f40f00018bed7d</td>\n",
       "      <td>835.0</td>\n",
       "      <td>She-devil reporting for duty!</td>\n",
       "      <td>25795675.0</td>\n",
       "      <td>25795675.0</td>\n",
       "      <td>&lt;br/&gt;</td>\n",
       "      <td>comment</td>\n",
       "      <td>1.517527e+09</td>\n",
       "      <td>1.0</td>\n",
       "      <td>...</td>\n",
       "      <td>approved</td>\n",
       "      <td>1.0</td>\n",
       "      <td>0.0</td>\n",
       "      <td>Op-Ed</td>\n",
       "      <td>1517529428</td>\n",
       "      <td>Nice White Lady</td>\n",
       "      <td>66376882.0</td>\n",
       "      <td>Seattle</td>\n",
       "      <td>NaN</td>\n",
       "      <td>NaN</td>\n",
       "    </tr>\n",
       "    <tr>\n",
       "      <th>2</th>\n",
       "      <td>1517529427</td>\n",
       "      <td>5a7258e410f40f00018bed7d</td>\n",
       "      <td>835.0</td>\n",
       "      <td>XX is the new mark of the devil.</td>\n",
       "      <td>25792078.0</td>\n",
       "      <td>25792078.0</td>\n",
       "      <td>&lt;br/&gt;</td>\n",
       "      <td>comment</td>\n",
       "      <td>1.517511e+09</td>\n",
       "      <td>1.0</td>\n",
       "      <td>...</td>\n",
       "      <td>approved</td>\n",
       "      <td>1.0</td>\n",
       "      <td>0.0</td>\n",
       "      <td>Op-Ed</td>\n",
       "      <td>1517529427</td>\n",
       "      <td>Stan Sutton</td>\n",
       "      <td>27924638.0</td>\n",
       "      <td>Westchester County, NY</td>\n",
       "      <td>NaN</td>\n",
       "      <td>NaN</td>\n",
       "    </tr>\n",
       "    <tr>\n",
       "      <th>3</th>\n",
       "      <td>1517529425</td>\n",
       "      <td>5a7258e410f40f00018bed7d</td>\n",
       "      <td>835.0</td>\n",
       "      <td>\"Courtland Sykes\" should be writing for The On...</td>\n",
       "      <td>25791604.0</td>\n",
       "      <td>25791604.0</td>\n",
       "      <td>&lt;br/&gt;</td>\n",
       "      <td>comment</td>\n",
       "      <td>1.517510e+09</td>\n",
       "      <td>1.0</td>\n",
       "      <td>...</td>\n",
       "      <td>approved</td>\n",
       "      <td>1.0</td>\n",
       "      <td>0.0</td>\n",
       "      <td>Op-Ed</td>\n",
       "      <td>1517529425</td>\n",
       "      <td>Phil Carson</td>\n",
       "      <td>31909107.0</td>\n",
       "      <td>Denver</td>\n",
       "      <td>NaN</td>\n",
       "      <td>NaN</td>\n",
       "    </tr>\n",
       "    <tr>\n",
       "      <th>4</th>\n",
       "      <td>1517529418</td>\n",
       "      <td>5a7258e410f40f00018bed7d</td>\n",
       "      <td>835.0</td>\n",
       "      <td>I happen to descend for a few of them, because...</td>\n",
       "      <td>25795241.0</td>\n",
       "      <td>25795241.0</td>\n",
       "      <td>&lt;br/&gt;</td>\n",
       "      <td>comment</td>\n",
       "      <td>1.517525e+09</td>\n",
       "      <td>1.0</td>\n",
       "      <td>...</td>\n",
       "      <td>approved</td>\n",
       "      <td>1.0</td>\n",
       "      <td>0.0</td>\n",
       "      <td>Op-Ed</td>\n",
       "      <td>1517529418</td>\n",
       "      <td>Abby</td>\n",
       "      <td>55271958.0</td>\n",
       "      <td>Tucson</td>\n",
       "      <td>NaN</td>\n",
       "      <td>NaN</td>\n",
       "    </tr>\n",
       "  </tbody>\n",
       "</table>\n",
       "<p>5 rows × 34 columns</p>\n",
       "</div>"
      ],
      "text/plain": [
       "   approveDate                 articleID  articleWordCount  \\\n",
       "0   1517529462  5a7258e410f40f00018bed7d             835.0   \n",
       "1   1517529428  5a7258e410f40f00018bed7d             835.0   \n",
       "2   1517529427  5a7258e410f40f00018bed7d             835.0   \n",
       "3   1517529425  5a7258e410f40f00018bed7d             835.0   \n",
       "4   1517529418  5a7258e410f40f00018bed7d             835.0   \n",
       "\n",
       "                                         commentBody   commentID  \\\n",
       "0  The snake-filled heads comment made me think o...  25791250.0   \n",
       "1                      She-devil reporting for duty!  25795675.0   \n",
       "2                   XX is the new mark of the devil.  25792078.0   \n",
       "3  \"Courtland Sykes\" should be writing for The On...  25791604.0   \n",
       "4  I happen to descend for a few of them, because...  25795241.0   \n",
       "\n",
       "   commentSequence commentTitle commentType    createDate  depth   ...     \\\n",
       "0       25791250.0        <br/>     comment  1.517508e+09    1.0   ...      \n",
       "1       25795675.0        <br/>     comment  1.517527e+09    1.0   ...      \n",
       "2       25792078.0        <br/>     comment  1.517511e+09    1.0   ...      \n",
       "3       25791604.0        <br/>     comment  1.517510e+09    1.0   ...      \n",
       "4       25795241.0        <br/>     comment  1.517525e+09    1.0   ...      \n",
       "\n",
       "     status  timespeople trusted  typeOfMaterial  updateDate  userDisplayName  \\\n",
       "0  approved          1.0     0.0           Op-Ed  1517529462           Jennie   \n",
       "1  approved          1.0     0.0           Op-Ed  1517529428  Nice White Lady   \n",
       "2  approved          1.0     0.0           Op-Ed  1517529427      Stan Sutton   \n",
       "3  approved          1.0     0.0           Op-Ed  1517529425      Phil Carson   \n",
       "4  approved          1.0     0.0           Op-Ed  1517529418             Abby   \n",
       "\n",
       "       userID            userLocation  userTitle  userURL  \n",
       "0  79172841.0                      WA        NaN      NaN  \n",
       "1  66376882.0                 Seattle        NaN      NaN  \n",
       "2  27924638.0  Westchester County, NY        NaN      NaN  \n",
       "3  31909107.0                  Denver        NaN      NaN  \n",
       "4  55271958.0                  Tucson        NaN      NaN  \n",
       "\n",
       "[5 rows x 34 columns]"
      ]
     },
     "execution_count": 28,
     "metadata": {},
     "output_type": "execute_result"
    }
   ],
   "source": [
    "comments.head()"
   ]
  },
  {
   "cell_type": "code",
   "execution_count": 29,
   "metadata": {},
   "outputs": [
    {
     "data": {
      "text/plain": [
       "array(['Op-Ed', 'News', 'Editorial', 'News Analysis', 'Review',\n",
       "       'briefing', 'Biography', 'An Appraisal', 'Brief',\n",
       "       'Obituary (Obit)', 'Question', 'Blog', 'Letter', 'Interview'],\n",
       "      dtype=object)"
      ]
     },
     "execution_count": 29,
     "metadata": {},
     "output_type": "execute_result"
    }
   ],
   "source": [
    "#view type of materials\n",
    "comments.typeOfMaterial.unique()"
   ]
  },
  {
   "cell_type": "code",
   "execution_count": 30,
   "metadata": {},
   "outputs": [
    {
     "data": {
      "text/plain": [
       "typeOfMaterial\n",
       "News               1050659\n",
       "Op-Ed               666450\n",
       "Editorial           127167\n",
       "News Analysis        20562\n",
       "Review               13783\n",
       "Blog                  9374\n",
       "briefing              4969\n",
       "Obituary (Obit)       4361\n",
       "Letter                1339\n",
       "Question               647\n",
       "Brief                  380\n",
       "Interview              217\n",
       "Biography               58\n",
       "An Appraisal             9\n",
       "Name: commentID, dtype: int64"
      ]
     },
     "execution_count": 30,
     "metadata": {},
     "output_type": "execute_result"
    }
   ],
   "source": [
    "material_comments = comments.groupby('typeOfMaterial')['commentID'].count().sort_values(ascending=False)\n",
    "material_comments"
   ]
  },
  {
   "cell_type": "markdown",
   "metadata": {},
   "source": [
    "Before moving forward with feature scaling, I'll choose a random sample of 30K rows of comments to make subsequent preprocessing and modeling quicker."
   ]
  },
  {
   "cell_type": "code",
   "execution_count": 31,
   "metadata": {},
   "outputs": [],
   "source": [
    "comments = comments.sample(30000)"
   ]
  },
  {
   "cell_type": "markdown",
   "metadata": {},
   "source": [
    "__comment text__ (of course!), __createDate, inReplyTo, recommendations, recommendedFlag, replyCount, reportAbuseFlag, sharing, timespeople, userID, parentID, editorsSelection, commentSequence__, and __commentID__ should be insightful comments."
   ]
  },
  {
   "cell_type": "code",
   "execution_count": null,
   "metadata": {},
   "outputs": [],
   "source": [
    "#check for null values\n",
    "# comments.isna().sum()"
   ]
  },
  {
   "cell_type": "markdown",
   "metadata": {},
   "source": [
    "I'll drop the following columns with substantial null values: __parentUserDisplayName, userTitle, userURL__ as well as columns with malformated data."
   ]
  },
  {
   "cell_type": "code",
   "execution_count": 33,
   "metadata": {},
   "outputs": [],
   "source": [
    "#drop columns\n",
    "comments.drop(['reportAbuseFlag','parentUserDisplayName', 'userTitle', 'userURL', 'approveDate', 'updateDate', 'commentTitle'], axis=1, inplace=True)"
   ]
  },
  {
   "cell_type": "code",
   "execution_count": 34,
   "metadata": {},
   "outputs": [],
   "source": [
    "comments.drop('recommendedFlag', axis=1, inplace=True)"
   ]
  },
  {
   "cell_type": "code",
   "execution_count": 35,
   "metadata": {},
   "outputs": [],
   "source": [
    "#convert columns to string format\n",
    "comments['commentID'] = comments['commentID'].astype(str)\n",
    "comments['createDate'] = comments['createDate'].astype(str) #convert to datetime later\n",
    "comments['parentID'] = comments['parentID'].astype(str)\n",
    "comments['printPage'] = comments['printPage'].astype(str)\n",
    "comments['userID'] = comments['userID'].astype(str)\n",
    "comments['inReplyTo'] = comments['inReplyTo'].astype(str)\n",
    "comments['commentSequence'] = comments['commentSequence'].astype(str)"
   ]
  },
  {
   "cell_type": "code",
   "execution_count": 36,
   "metadata": {},
   "outputs": [
    {
     "data": {
      "text/html": [
       "<div>\n",
       "<style scoped>\n",
       "    .dataframe tbody tr th:only-of-type {\n",
       "        vertical-align: middle;\n",
       "    }\n",
       "\n",
       "    .dataframe tbody tr th {\n",
       "        vertical-align: top;\n",
       "    }\n",
       "\n",
       "    .dataframe thead th {\n",
       "        text-align: right;\n",
       "    }\n",
       "</style>\n",
       "<table border=\"1\" class=\"dataframe\">\n",
       "  <thead>\n",
       "    <tr style=\"text-align: right;\">\n",
       "      <th></th>\n",
       "      <th>articleWordCount</th>\n",
       "      <th>depth</th>\n",
       "      <th>editorsSelection</th>\n",
       "      <th>recommendations</th>\n",
       "      <th>replyCount</th>\n",
       "      <th>sharing</th>\n",
       "      <th>timespeople</th>\n",
       "      <th>trusted</th>\n",
       "    </tr>\n",
       "  </thead>\n",
       "  <tbody>\n",
       "    <tr>\n",
       "      <th>count</th>\n",
       "      <td>30000.000000</td>\n",
       "      <td>30000.000000</td>\n",
       "      <td>30000.000000</td>\n",
       "      <td>30000.000000</td>\n",
       "      <td>30000.000000</td>\n",
       "      <td>30000.000000</td>\n",
       "      <td>30000.000000</td>\n",
       "      <td>30000.000000</td>\n",
       "    </tr>\n",
       "    <tr>\n",
       "      <th>mean</th>\n",
       "      <td>1264.053367</td>\n",
       "      <td>1.269367</td>\n",
       "      <td>0.018000</td>\n",
       "      <td>20.353533</td>\n",
       "      <td>0.433100</td>\n",
       "      <td>0.086433</td>\n",
       "      <td>0.959867</td>\n",
       "      <td>0.034533</td>\n",
       "    </tr>\n",
       "    <tr>\n",
       "      <th>std</th>\n",
       "      <td>824.752160</td>\n",
       "      <td>0.454476</td>\n",
       "      <td>0.132953</td>\n",
       "      <td>119.234250</td>\n",
       "      <td>1.760803</td>\n",
       "      <td>0.281008</td>\n",
       "      <td>0.196275</td>\n",
       "      <td>0.182598</td>\n",
       "    </tr>\n",
       "    <tr>\n",
       "      <th>min</th>\n",
       "      <td>33.000000</td>\n",
       "      <td>1.000000</td>\n",
       "      <td>0.000000</td>\n",
       "      <td>0.000000</td>\n",
       "      <td>0.000000</td>\n",
       "      <td>0.000000</td>\n",
       "      <td>0.000000</td>\n",
       "      <td>0.000000</td>\n",
       "    </tr>\n",
       "    <tr>\n",
       "      <th>25%</th>\n",
       "      <td>836.000000</td>\n",
       "      <td>1.000000</td>\n",
       "      <td>0.000000</td>\n",
       "      <td>1.000000</td>\n",
       "      <td>0.000000</td>\n",
       "      <td>0.000000</td>\n",
       "      <td>1.000000</td>\n",
       "      <td>0.000000</td>\n",
       "    </tr>\n",
       "    <tr>\n",
       "      <th>50%</th>\n",
       "      <td>1125.000000</td>\n",
       "      <td>1.000000</td>\n",
       "      <td>0.000000</td>\n",
       "      <td>4.000000</td>\n",
       "      <td>0.000000</td>\n",
       "      <td>0.000000</td>\n",
       "      <td>1.000000</td>\n",
       "      <td>0.000000</td>\n",
       "    </tr>\n",
       "    <tr>\n",
       "      <th>75%</th>\n",
       "      <td>1442.000000</td>\n",
       "      <td>2.000000</td>\n",
       "      <td>0.000000</td>\n",
       "      <td>10.000000</td>\n",
       "      <td>0.000000</td>\n",
       "      <td>0.000000</td>\n",
       "      <td>1.000000</td>\n",
       "      <td>0.000000</td>\n",
       "    </tr>\n",
       "    <tr>\n",
       "      <th>max</th>\n",
       "      <td>11278.000000</td>\n",
       "      <td>4.000000</td>\n",
       "      <td>1.000000</td>\n",
       "      <td>6295.000000</td>\n",
       "      <td>101.000000</td>\n",
       "      <td>1.000000</td>\n",
       "      <td>1.000000</td>\n",
       "      <td>1.000000</td>\n",
       "    </tr>\n",
       "  </tbody>\n",
       "</table>\n",
       "</div>"
      ],
      "text/plain": [
       "       articleWordCount         depth  editorsSelection  recommendations  \\\n",
       "count      30000.000000  30000.000000      30000.000000     30000.000000   \n",
       "mean        1264.053367      1.269367          0.018000        20.353533   \n",
       "std          824.752160      0.454476          0.132953       119.234250   \n",
       "min           33.000000      1.000000          0.000000         0.000000   \n",
       "25%          836.000000      1.000000          0.000000         1.000000   \n",
       "50%         1125.000000      1.000000          0.000000         4.000000   \n",
       "75%         1442.000000      2.000000          0.000000        10.000000   \n",
       "max        11278.000000      4.000000          1.000000      6295.000000   \n",
       "\n",
       "         replyCount       sharing   timespeople       trusted  \n",
       "count  30000.000000  30000.000000  30000.000000  30000.000000  \n",
       "mean       0.433100      0.086433      0.959867      0.034533  \n",
       "std        1.760803      0.281008      0.196275      0.182598  \n",
       "min        0.000000      0.000000      0.000000      0.000000  \n",
       "25%        0.000000      0.000000      1.000000      0.000000  \n",
       "50%        0.000000      0.000000      1.000000      0.000000  \n",
       "75%        0.000000      0.000000      1.000000      0.000000  \n",
       "max      101.000000      1.000000      1.000000      1.000000  "
      ]
     },
     "execution_count": 36,
     "metadata": {},
     "output_type": "execute_result"
    }
   ],
   "source": [
    "comments.describe()"
   ]
  },
  {
   "cell_type": "code",
   "execution_count": 37,
   "metadata": {},
   "outputs": [],
   "source": [
    "# normalize data\n",
    "## complete scaling for comments dataset\n",
    "comments_scale = pd.DataFrame()\n",
    "comments_scale['articleWordCount'] = (comments['articleWordCount'] - comments['articleWordCount'].min())/(comments['articleWordCount'].max()-comments['articleWordCount'].min())\n",
    "comments_scale['depth'] = (comments['depth'] - comments['depth'].min()) / (comments['depth'].max()- comments['depth'].min())\n",
    "comments_scale['editorsSelection'] = (comments['editorsSelection']- comments['editorsSelection'].min()) / (comments['editorsSelection'].max()- comments['editorsSelection'].min())\n",
    "comments_scale['recommendations'] = (comments['recommendations'] - comments['recommendations'].min()) / (comments['recommendations'].max()- comments['recommendations'].min())\n",
    "comments_scale['replyCount'] = (comments['replyCount']- comments['replyCount'].min()) / (comments['replyCount'].max()- comments['replyCount'].min())\n",
    "comments_scale['sharing'] = (comments['sharing']- comments['sharing'].min()) / (comments['sharing'].max()- comments['sharing'].min())\n",
    "comments_scale['timespeople'] = (comments['timespeople'] - comments['timespeople'].min()) / (comments['timespeople'].max()- comments['timespeople'].min())\n",
    "comments_scale['trusted'] = (comments['trusted']- comments['trusted'].min()) / (comments['trusted'].max()- comments['trusted'].min())"
   ]
  },
  {
   "cell_type": "code",
   "execution_count": 38,
   "metadata": {},
   "outputs": [],
   "source": [
    "# comments_scale.hist()"
   ]
  },
  {
   "cell_type": "code",
   "execution_count": 39,
   "metadata": {},
   "outputs": [],
   "source": [
    "# complete log transform\n",
    "comments_scale_log = pd.DataFrame()\n",
    "comments_scale_log['articleWordCount'] = np.log(comments_scale['articleWordCount']+.00001)\n",
    "comments_scale_log['depth'] = np.log(comments_scale['depth']+.00001)\n",
    "comments_scale_log['editorsSelection'] = np.log(comments_scale['editorsSelection']+.00001)\n",
    "comments_scale_log['recommendations'] = np.log(comments_scale['recommendations']+.00001)\n",
    "comments_scale_log['replyCount'] = np.log(comments_scale['replyCount']+.00001)\n",
    "comments_scale_log['timespeople'] = np.log(comments_scale['timespeople']+.00001)\n",
    "comments_scale_log['trusted'] = np.log(comments_scale['trusted']+.00001)"
   ]
  },
  {
   "cell_type": "code",
   "execution_count": 40,
   "metadata": {},
   "outputs": [
    {
     "data": {
      "text/plain": [
       "array([[<matplotlib.axes._subplots.AxesSubplot object at 0x1c4b2b5e80>,\n",
       "        <matplotlib.axes._subplots.AxesSubplot object at 0x1c4c722400>,\n",
       "        <matplotlib.axes._subplots.AxesSubplot object at 0x1c4c6e6a58>],\n",
       "       [<matplotlib.axes._subplots.AxesSubplot object at 0x1c4ad9d0f0>,\n",
       "        <matplotlib.axes._subplots.AxesSubplot object at 0x1c4adc3748>,\n",
       "        <matplotlib.axes._subplots.AxesSubplot object at 0x1031fc3c8>],\n",
       "       [<matplotlib.axes._subplots.AxesSubplot object at 0x1c3c2542b0>,\n",
       "        <matplotlib.axes._subplots.AxesSubplot object at 0x1c3c277c50>,\n",
       "        <matplotlib.axes._subplots.AxesSubplot object at 0x1c3c277c88>]],\n",
       "      dtype=object)"
      ]
     },
     "execution_count": 40,
     "metadata": {},
     "output_type": "execute_result"
    },
    {
     "data": {
      "image/png": "[encoded data removed]",
      "text/plain": [
       "<Figure size 432x288 with 9 Axes>"
      ]
     },
     "metadata": {},
     "output_type": "display_data"
    }
   ],
   "source": [
    "comments_scale_log.hist()"
   ]
  },
  {
   "cell_type": "code",
   "execution_count": 41,
   "metadata": {},
   "outputs": [
    {
     "name": "stdout",
     "output_type": "stream",
     "text": [
      "<class 'pandas.core.frame.DataFrame'>\n",
      "Int64Index: 30000 entries, 1227172 to 82172\n",
      "Data columns (total 26 columns):\n",
      "articleID           30000 non-null object\n",
      "articleWordCount    30000 non-null float64\n",
      "commentBody         30000 non-null object\n",
      "commentID           30000 non-null object\n",
      "commentSequence     30000 non-null object\n",
      "commentType         30000 non-null object\n",
      "createDate          30000 non-null object\n",
      "depth               30000 non-null float64\n",
      "editorsSelection    30000 non-null int64\n",
      "inReplyTo           30000 non-null object\n",
      "newDesk             30000 non-null object\n",
      "parentID            30000 non-null object\n",
      "permID              30000 non-null object\n",
      "picURL              30000 non-null object\n",
      "printPage           30000 non-null object\n",
      "recommendations     30000 non-null float64\n",
      "replyCount          30000 non-null float64\n",
      "sectionName         27640 non-null object\n",
      "sharing             30000 non-null int64\n",
      "status              30000 non-null object\n",
      "timespeople         30000 non-null float64\n",
      "trusted             30000 non-null float64\n",
      "typeOfMaterial      30000 non-null object\n",
      "userDisplayName     29994 non-null object\n",
      "userID              30000 non-null object\n",
      "userLocation        29990 non-null object\n",
      "dtypes: float64(6), int64(2), object(18)\n",
      "memory usage: 6.2+ MB\n"
     ]
    }
   ],
   "source": [
    "comments.info()"
   ]
  },
  {
   "cell_type": "markdown",
   "metadata": {},
   "source": [
    "I'll create a categorical dataframe and perform one-hot encoding."
   ]
  },
  {
   "cell_type": "code",
   "execution_count": 42,
   "metadata": {},
   "outputs": [],
   "source": [
    "comments_cat = comments[['commentType','newDesk','sectionName','status','typeOfMaterial']]\n",
    "#removed userLocation for now; too many columns after one-hot encoding"
   ]
  },
  {
   "cell_type": "code",
   "execution_count": 43,
   "metadata": {},
   "outputs": [
    {
     "name": "stdout",
     "output_type": "stream",
     "text": [
      "<class 'pandas.core.frame.DataFrame'>\n",
      "Int64Index: 30000 entries, 1227172 to 82172\n",
      "Columns: 110 entries, commentType_comment to typeOfMaterial_briefing\n",
      "dtypes: uint8(110)\n",
      "memory usage: 3.4 MB\n"
     ]
    }
   ],
   "source": [
    "comments_cat_one_hot = pd.get_dummies(comments_cat)\n",
    "comments_cat_one_hot.info()"
   ]
  },
  {
   "cell_type": "markdown",
   "metadata": {},
   "source": [
    "Merge the numerical and categorical dataframes."
   ]
  },
  {
   "cell_type": "code",
   "execution_count": 44,
   "metadata": {},
   "outputs": [],
   "source": [
    "df_comments = pd.concat([comments_scale_log, comments_cat_one_hot], axis=1)"
   ]
  },
  {
   "cell_type": "code",
   "execution_count": 45,
   "metadata": {},
   "outputs": [
    {
     "data": {
      "text/plain": [
       "<matplotlib.axes._subplots.AxesSubplot at 0x1c4c098fd0>"
      ]
     },
     "execution_count": 45,
     "metadata": {},
     "output_type": "execute_result"
    },
    {
     "data": {
      "image/png": "[encoded data removed]",
      "text/plain": [
       "<Figure size 720x576 with 2 Axes>"
      ]
     },
     "metadata": {},
     "output_type": "display_data"
    }
   ],
   "source": [
    "#plot covariance matrix\n",
    "sns.set(style='white')\n",
    "corr = df_comments.corr() #update with normalized dataset\n",
    "mask = np.zeros_like(corr, dtype=np.bool)\n",
    "mask[np.triu_indices_from(mask)] = True\n",
    "\n",
    "f, ax = plt.subplots(figsize=(10,8))\n",
    "\n",
    "cmap = sns.diverging_palette(220, 10, as_cmap=True)\n",
    "\n",
    "sns.heatmap(corr, mask=mask, cmap=cmap, vmax=.3, center=0, square=True, linewidths=.5, cbar_kws={'shrink': .5})"
   ]
  },
  {
   "cell_type": "markdown",
   "metadata": {},
   "source": [
    "Also low correlation among many features for comments dataset although some pairs high large negative correlation."
   ]
  },
  {
   "cell_type": "markdown",
   "metadata": {},
   "source": [
    "I'll use the preprocessed datasets moving forward."
   ]
  },
  {
   "cell_type": "code",
   "execution_count": 52,
   "metadata": {},
   "outputs": [],
   "source": [
    "#select columns from each dataset\n",
    "articles_time = df_articles"
   ]
  },
  {
   "cell_type": "code",
   "execution_count": 53,
   "metadata": {},
   "outputs": [],
   "source": [
    "#select columns from each dataset\n",
    "comments_time = df_comments"
   ]
  },
  {
   "cell_type": "code",
   "execution_count": null,
   "metadata": {},
   "outputs": [],
   "source": [
    "comments_time.info()"
   ]
  },
  {
   "cell_type": "code",
   "execution_count": 56,
   "metadata": {},
   "outputs": [
    {
     "ename": "KeyError",
     "evalue": "'pubDate'",
     "output_type": "error",
     "traceback": [
      "\u001b[0;31m---------------------------------------------------------------------------\u001b[0m",
      "\u001b[0;31mKeyError\u001b[0m                                  Traceback (most recent call last)",
      "\u001b[0;32m~/anaconda3/envs/learn-env/lib/python3.6/site-packages/pandas/core/indexes/base.py\u001b[0m in \u001b[0;36mget_loc\u001b[0;34m(self, key, method, tolerance)\u001b[0m\n\u001b[1;32m   3077\u001b[0m             \u001b[0;32mtry\u001b[0m\u001b[0;34m:\u001b[0m\u001b[0;34m\u001b[0m\u001b[0m\n\u001b[0;32m-> 3078\u001b[0;31m                 \u001b[0;32mreturn\u001b[0m \u001b[0mself\u001b[0m\u001b[0;34m.\u001b[0m\u001b[0m_engine\u001b[0m\u001b[0;34m.\u001b[0m\u001b[0mget_loc\u001b[0m\u001b[0;34m(\u001b[0m\u001b[0mkey\u001b[0m\u001b[0;34m)\u001b[0m\u001b[0;34m\u001b[0m\u001b[0m\n\u001b[0m\u001b[1;32m   3079\u001b[0m             \u001b[0;32mexcept\u001b[0m \u001b[0mKeyError\u001b[0m\u001b[0;34m:\u001b[0m\u001b[0;34m\u001b[0m\u001b[0m\n",
      "\u001b[0;32mpandas/_libs/index.pyx\u001b[0m in \u001b[0;36mpandas._libs.index.IndexEngine.get_loc\u001b[0;34m()\u001b[0m\n",
      "\u001b[0;32mpandas/_libs/index.pyx\u001b[0m in \u001b[0;36mpandas._libs.index.IndexEngine.get_loc\u001b[0;34m()\u001b[0m\n",
      "\u001b[0;32mpandas/_libs/hashtable_class_helper.pxi\u001b[0m in \u001b[0;36mpandas._libs.hashtable.PyObjectHashTable.get_item\u001b[0;34m()\u001b[0m\n",
      "\u001b[0;32mpandas/_libs/hashtable_class_helper.pxi\u001b[0m in \u001b[0;36mpandas._libs.hashtable.PyObjectHashTable.get_item\u001b[0;34m()\u001b[0m\n",
      "\u001b[0;31mKeyError\u001b[0m: 'pubDate'",
      "\nDuring handling of the above exception, another exception occurred:\n",
      "\u001b[0;31mKeyError\u001b[0m                                  Traceback (most recent call last)",
      "\u001b[0;32m<ipython-input-56-f4d19e581935>\u001b[0m in \u001b[0;36m<module>\u001b[0;34m()\u001b[0m\n\u001b[1;32m      1\u001b[0m \u001b[0;31m#change column to datetime format\u001b[0m\u001b[0;34m\u001b[0m\u001b[0;34m\u001b[0m\u001b[0m\n\u001b[0;32m----> 2\u001b[0;31m \u001b[0marticles_time\u001b[0m\u001b[0;34m[\u001b[0m\u001b[0;34m'date'\u001b[0m\u001b[0;34m]\u001b[0m \u001b[0;34m=\u001b[0m \u001b[0mpd\u001b[0m\u001b[0;34m.\u001b[0m\u001b[0mto_datetime\u001b[0m\u001b[0;34m(\u001b[0m\u001b[0marticles_time\u001b[0m\u001b[0;34m[\u001b[0m\u001b[0;34m'pubDate'\u001b[0m\u001b[0;34m]\u001b[0m\u001b[0;34m)\u001b[0m\u001b[0;34m\u001b[0m\u001b[0m\n\u001b[0m",
      "\u001b[0;32m~/anaconda3/envs/learn-env/lib/python3.6/site-packages/pandas/core/frame.py\u001b[0m in \u001b[0;36m__getitem__\u001b[0;34m(self, key)\u001b[0m\n\u001b[1;32m   2686\u001b[0m             \u001b[0;32mreturn\u001b[0m \u001b[0mself\u001b[0m\u001b[0;34m.\u001b[0m\u001b[0m_getitem_multilevel\u001b[0m\u001b[0;34m(\u001b[0m\u001b[0mkey\u001b[0m\u001b[0;34m)\u001b[0m\u001b[0;34m\u001b[0m\u001b[0m\n\u001b[1;32m   2687\u001b[0m         \u001b[0;32melse\u001b[0m\u001b[0;34m:\u001b[0m\u001b[0;34m\u001b[0m\u001b[0m\n\u001b[0;32m-> 2688\u001b[0;31m             \u001b[0;32mreturn\u001b[0m \u001b[0mself\u001b[0m\u001b[0;34m.\u001b[0m\u001b[0m_getitem_column\u001b[0m\u001b[0;34m(\u001b[0m\u001b[0mkey\u001b[0m\u001b[0;34m)\u001b[0m\u001b[0;34m\u001b[0m\u001b[0m\n\u001b[0m\u001b[1;32m   2689\u001b[0m \u001b[0;34m\u001b[0m\u001b[0m\n\u001b[1;32m   2690\u001b[0m     \u001b[0;32mdef\u001b[0m \u001b[0m_getitem_column\u001b[0m\u001b[0;34m(\u001b[0m\u001b[0mself\u001b[0m\u001b[0;34m,\u001b[0m \u001b[0mkey\u001b[0m\u001b[0;34m)\u001b[0m\u001b[0;34m:\u001b[0m\u001b[0;34m\u001b[0m\u001b[0m\n",
      "\u001b[0;32m~/anaconda3/envs/learn-env/lib/python3.6/site-packages/pandas/core/frame.py\u001b[0m in \u001b[0;36m_getitem_column\u001b[0;34m(self, key)\u001b[0m\n\u001b[1;32m   2693\u001b[0m         \u001b[0;31m# get column\u001b[0m\u001b[0;34m\u001b[0m\u001b[0;34m\u001b[0m\u001b[0m\n\u001b[1;32m   2694\u001b[0m         \u001b[0;32mif\u001b[0m \u001b[0mself\u001b[0m\u001b[0;34m.\u001b[0m\u001b[0mcolumns\u001b[0m\u001b[0;34m.\u001b[0m\u001b[0mis_unique\u001b[0m\u001b[0;34m:\u001b[0m\u001b[0;34m\u001b[0m\u001b[0m\n\u001b[0;32m-> 2695\u001b[0;31m             \u001b[0;32mreturn\u001b[0m \u001b[0mself\u001b[0m\u001b[0;34m.\u001b[0m\u001b[0m_get_item_cache\u001b[0m\u001b[0;34m(\u001b[0m\u001b[0mkey\u001b[0m\u001b[0;34m)\u001b[0m\u001b[0;34m\u001b[0m\u001b[0m\n\u001b[0m\u001b[1;32m   2696\u001b[0m \u001b[0;34m\u001b[0m\u001b[0m\n\u001b[1;32m   2697\u001b[0m         \u001b[0;31m# duplicate columns & possible reduce dimensionality\u001b[0m\u001b[0;34m\u001b[0m\u001b[0;34m\u001b[0m\u001b[0m\n",
      "\u001b[0;32m~/anaconda3/envs/learn-env/lib/python3.6/site-packages/pandas/core/generic.py\u001b[0m in \u001b[0;36m_get_item_cache\u001b[0;34m(self, item)\u001b[0m\n\u001b[1;32m   2487\u001b[0m         \u001b[0mres\u001b[0m \u001b[0;34m=\u001b[0m \u001b[0mcache\u001b[0m\u001b[0;34m.\u001b[0m\u001b[0mget\u001b[0m\u001b[0;34m(\u001b[0m\u001b[0mitem\u001b[0m\u001b[0;34m)\u001b[0m\u001b[0;34m\u001b[0m\u001b[0m\n\u001b[1;32m   2488\u001b[0m         \u001b[0;32mif\u001b[0m \u001b[0mres\u001b[0m \u001b[0;32mis\u001b[0m \u001b[0;32mNone\u001b[0m\u001b[0;34m:\u001b[0m\u001b[0;34m\u001b[0m\u001b[0m\n\u001b[0;32m-> 2489\u001b[0;31m             \u001b[0mvalues\u001b[0m \u001b[0;34m=\u001b[0m \u001b[0mself\u001b[0m\u001b[0;34m.\u001b[0m\u001b[0m_data\u001b[0m\u001b[0;34m.\u001b[0m\u001b[0mget\u001b[0m\u001b[0;34m(\u001b[0m\u001b[0mitem\u001b[0m\u001b[0;34m)\u001b[0m\u001b[0;34m\u001b[0m\u001b[0m\n\u001b[0m\u001b[1;32m   2490\u001b[0m             \u001b[0mres\u001b[0m \u001b[0;34m=\u001b[0m \u001b[0mself\u001b[0m\u001b[0;34m.\u001b[0m\u001b[0m_box_item_values\u001b[0m\u001b[0;34m(\u001b[0m\u001b[0mitem\u001b[0m\u001b[0;34m,\u001b[0m \u001b[0mvalues\u001b[0m\u001b[0;34m)\u001b[0m\u001b[0;34m\u001b[0m\u001b[0m\n\u001b[1;32m   2491\u001b[0m             \u001b[0mcache\u001b[0m\u001b[0;34m[\u001b[0m\u001b[0mitem\u001b[0m\u001b[0;34m]\u001b[0m \u001b[0;34m=\u001b[0m \u001b[0mres\u001b[0m\u001b[0;34m\u001b[0m\u001b[0m\n",
      "\u001b[0;32m~/anaconda3/envs/learn-env/lib/python3.6/site-packages/pandas/core/internals.py\u001b[0m in \u001b[0;36mget\u001b[0;34m(self, item, fastpath)\u001b[0m\n\u001b[1;32m   4113\u001b[0m \u001b[0;34m\u001b[0m\u001b[0m\n\u001b[1;32m   4114\u001b[0m             \u001b[0;32mif\u001b[0m \u001b[0;32mnot\u001b[0m \u001b[0misna\u001b[0m\u001b[0;34m(\u001b[0m\u001b[0mitem\u001b[0m\u001b[0;34m)\u001b[0m\u001b[0;34m:\u001b[0m\u001b[0;34m\u001b[0m\u001b[0m\n\u001b[0;32m-> 4115\u001b[0;31m                 \u001b[0mloc\u001b[0m \u001b[0;34m=\u001b[0m \u001b[0mself\u001b[0m\u001b[0;34m.\u001b[0m\u001b[0mitems\u001b[0m\u001b[0;34m.\u001b[0m\u001b[0mget_loc\u001b[0m\u001b[0;34m(\u001b[0m\u001b[0mitem\u001b[0m\u001b[0;34m)\u001b[0m\u001b[0;34m\u001b[0m\u001b[0m\n\u001b[0m\u001b[1;32m   4116\u001b[0m             \u001b[0;32melse\u001b[0m\u001b[0;34m:\u001b[0m\u001b[0;34m\u001b[0m\u001b[0m\n\u001b[1;32m   4117\u001b[0m                 \u001b[0mindexer\u001b[0m \u001b[0;34m=\u001b[0m \u001b[0mnp\u001b[0m\u001b[0;34m.\u001b[0m\u001b[0marange\u001b[0m\u001b[0;34m(\u001b[0m\u001b[0mlen\u001b[0m\u001b[0;34m(\u001b[0m\u001b[0mself\u001b[0m\u001b[0;34m.\u001b[0m\u001b[0mitems\u001b[0m\u001b[0;34m)\u001b[0m\u001b[0;34m)\u001b[0m\u001b[0;34m[\u001b[0m\u001b[0misna\u001b[0m\u001b[0;34m(\u001b[0m\u001b[0mself\u001b[0m\u001b[0;34m.\u001b[0m\u001b[0mitems\u001b[0m\u001b[0;34m)\u001b[0m\u001b[0;34m]\u001b[0m\u001b[0;34m\u001b[0m\u001b[0m\n",
      "\u001b[0;32m~/anaconda3/envs/learn-env/lib/python3.6/site-packages/pandas/core/indexes/base.py\u001b[0m in \u001b[0;36mget_loc\u001b[0;34m(self, key, method, tolerance)\u001b[0m\n\u001b[1;32m   3078\u001b[0m                 \u001b[0;32mreturn\u001b[0m \u001b[0mself\u001b[0m\u001b[0;34m.\u001b[0m\u001b[0m_engine\u001b[0m\u001b[0;34m.\u001b[0m\u001b[0mget_loc\u001b[0m\u001b[0;34m(\u001b[0m\u001b[0mkey\u001b[0m\u001b[0;34m)\u001b[0m\u001b[0;34m\u001b[0m\u001b[0m\n\u001b[1;32m   3079\u001b[0m             \u001b[0;32mexcept\u001b[0m \u001b[0mKeyError\u001b[0m\u001b[0;34m:\u001b[0m\u001b[0;34m\u001b[0m\u001b[0m\n\u001b[0;32m-> 3080\u001b[0;31m                 \u001b[0;32mreturn\u001b[0m \u001b[0mself\u001b[0m\u001b[0;34m.\u001b[0m\u001b[0m_engine\u001b[0m\u001b[0;34m.\u001b[0m\u001b[0mget_loc\u001b[0m\u001b[0;34m(\u001b[0m\u001b[0mself\u001b[0m\u001b[0;34m.\u001b[0m\u001b[0m_maybe_cast_indexer\u001b[0m\u001b[0;34m(\u001b[0m\u001b[0mkey\u001b[0m\u001b[0;34m)\u001b[0m\u001b[0;34m)\u001b[0m\u001b[0;34m\u001b[0m\u001b[0m\n\u001b[0m\u001b[1;32m   3081\u001b[0m \u001b[0;34m\u001b[0m\u001b[0m\n\u001b[1;32m   3082\u001b[0m         \u001b[0mindexer\u001b[0m \u001b[0;34m=\u001b[0m \u001b[0mself\u001b[0m\u001b[0;34m.\u001b[0m\u001b[0mget_indexer\u001b[0m\u001b[0;34m(\u001b[0m\u001b[0;34m[\u001b[0m\u001b[0mkey\u001b[0m\u001b[0;34m]\u001b[0m\u001b[0;34m,\u001b[0m \u001b[0mmethod\u001b[0m\u001b[0;34m=\u001b[0m\u001b[0mmethod\u001b[0m\u001b[0;34m,\u001b[0m \u001b[0mtolerance\u001b[0m\u001b[0;34m=\u001b[0m\u001b[0mtolerance\u001b[0m\u001b[0;34m)\u001b[0m\u001b[0;34m\u001b[0m\u001b[0m\n",
      "\u001b[0;32mpandas/_libs/index.pyx\u001b[0m in \u001b[0;36mpandas._libs.index.IndexEngine.get_loc\u001b[0;34m()\u001b[0m\n",
      "\u001b[0;32mpandas/_libs/index.pyx\u001b[0m in \u001b[0;36mpandas._libs.index.IndexEngine.get_loc\u001b[0;34m()\u001b[0m\n",
      "\u001b[0;32mpandas/_libs/hashtable_class_helper.pxi\u001b[0m in \u001b[0;36mpandas._libs.hashtable.PyObjectHashTable.get_item\u001b[0;34m()\u001b[0m\n",
      "\u001b[0;32mpandas/_libs/hashtable_class_helper.pxi\u001b[0m in \u001b[0;36mpandas._libs.hashtable.PyObjectHashTable.get_item\u001b[0;34m()\u001b[0m\n",
      "\u001b[0;31mKeyError\u001b[0m: 'pubDate'"
     ]
    }
   ],
   "source": [
    "#change column to datetime format\n",
    "articles_time['date'] = pd.to_datetime(articles_time['pubDate'])"
   ]
  },
  {
   "cell_type": "code",
   "execution_count": 58,
   "metadata": {},
   "outputs": [],
   "source": [
    "# comments_time['date'] = pd.to_datetime(comments_time['createDate'])"
   ]
  },
  {
   "cell_type": "code",
   "execution_count": 59,
   "metadata": {},
   "outputs": [],
   "source": [
    "# comments_time.head()"
   ]
  },
  {
   "cell_type": "code",
   "execution_count": 61,
   "metadata": {},
   "outputs": [],
   "source": [
    "#set index\n",
    "articles_time.set_index('date', inplace=True)"
   ]
  },
  {
   "cell_type": "code",
   "execution_count": 60,
   "metadata": {},
   "outputs": [],
   "source": [
    "# comments_time.set_index('date', inplace=True)"
   ]
  },
  {
   "cell_type": "code",
   "execution_count": 63,
   "metadata": {},
   "outputs": [],
   "source": [
    "#change pubdate format\n",
    "# articles_time['pubDate'] = pd.to_datetime(articles_time['pubDate'], format='%Y/%m/%d')\n",
    "# articles_time['pubDate'] = articles_time['pubDate'].dt.date\n",
    "# articles_time.pubDate = pd.to_datetime(articles_time.pubDate)"
   ]
  },
  {
   "cell_type": "code",
   "execution_count": null,
   "metadata": {},
   "outputs": [],
   "source": [
    "# comments_time['date_update'] = pd.to_datetime(comments_time['date_update'], format='%Y/%m/%d')\n",
    "# comments_time['date_update'] = comments_time['date_update'].dt.date\n",
    "# comments_time.date_update = pd.to_datetime(comments_time.date_update)"
   ]
  },
  {
   "cell_type": "code",
   "execution_count": 64,
   "metadata": {},
   "outputs": [
    {
     "data": {
      "text/html": [
       "<div>\n",
       "<style scoped>\n",
       "    .dataframe tbody tr th:only-of-type {\n",
       "        vertical-align: middle;\n",
       "    }\n",
       "\n",
       "    .dataframe tbody tr th {\n",
       "        vertical-align: top;\n",
       "    }\n",
       "\n",
       "    .dataframe thead th {\n",
       "        text-align: right;\n",
       "    }\n",
       "</style>\n",
       "<table border=\"1\" class=\"dataframe\">\n",
       "  <thead>\n",
       "    <tr style=\"text-align: right;\">\n",
       "      <th></th>\n",
       "      <th>articleWordCount</th>\n",
       "      <th>multimedia</th>\n",
       "      <th>printPage</th>\n",
       "      <th>Arts&amp;Leisure</th>\n",
       "      <th>BookReview</th>\n",
       "      <th>Business</th>\n",
       "      <th>Climate</th>\n",
       "      <th>Culture</th>\n",
       "      <th>Dining</th>\n",
       "      <th>EdLife</th>\n",
       "      <th>...</th>\n",
       "      <th>Summary</th>\n",
       "      <th>SundayBusiness</th>\n",
       "      <th>TStyle</th>\n",
       "      <th>Travel</th>\n",
       "      <th>Unknown</th>\n",
       "      <th>Upshot</th>\n",
       "      <th>Video</th>\n",
       "      <th>Washington</th>\n",
       "      <th>Weekend</th>\n",
       "      <th>Well</th>\n",
       "    </tr>\n",
       "    <tr>\n",
       "      <th>date</th>\n",
       "      <th></th>\n",
       "      <th></th>\n",
       "      <th></th>\n",
       "      <th></th>\n",
       "      <th></th>\n",
       "      <th></th>\n",
       "      <th></th>\n",
       "      <th></th>\n",
       "      <th></th>\n",
       "      <th></th>\n",
       "      <th></th>\n",
       "      <th></th>\n",
       "      <th></th>\n",
       "      <th></th>\n",
       "      <th></th>\n",
       "      <th></th>\n",
       "      <th></th>\n",
       "      <th></th>\n",
       "      <th></th>\n",
       "      <th></th>\n",
       "      <th></th>\n",
       "    </tr>\n",
       "  </thead>\n",
       "  <tbody>\n",
       "    <tr>\n",
       "      <th>2017-02-02 00:26:16</th>\n",
       "      <td>-2.679697</td>\n",
       "      <td>-4.212731</td>\n",
       "      <td>-2.801712</td>\n",
       "      <td>0</td>\n",
       "      <td>0</td>\n",
       "      <td>0</td>\n",
       "      <td>0</td>\n",
       "      <td>0</td>\n",
       "      <td>0</td>\n",
       "      <td>0</td>\n",
       "      <td>...</td>\n",
       "      <td>0</td>\n",
       "      <td>0</td>\n",
       "      <td>0</td>\n",
       "      <td>0</td>\n",
       "      <td>0</td>\n",
       "      <td>0</td>\n",
       "      <td>0</td>\n",
       "      <td>0</td>\n",
       "      <td>0</td>\n",
       "      <td>0</td>\n",
       "    </tr>\n",
       "    <tr>\n",
       "      <th>2017-02-02 10:00:24</th>\n",
       "      <td>-1.670163</td>\n",
       "      <td>-4.212731</td>\n",
       "      <td>-5.268661</td>\n",
       "      <td>1</td>\n",
       "      <td>0</td>\n",
       "      <td>0</td>\n",
       "      <td>0</td>\n",
       "      <td>0</td>\n",
       "      <td>0</td>\n",
       "      <td>0</td>\n",
       "      <td>...</td>\n",
       "      <td>0</td>\n",
       "      <td>0</td>\n",
       "      <td>0</td>\n",
       "      <td>0</td>\n",
       "      <td>0</td>\n",
       "      <td>0</td>\n",
       "      <td>0</td>\n",
       "      <td>0</td>\n",
       "      <td>0</td>\n",
       "      <td>0</td>\n",
       "    </tr>\n",
       "    <tr>\n",
       "      <th>2017-02-02 10:01:53</th>\n",
       "      <td>-3.173032</td>\n",
       "      <td>-4.212731</td>\n",
       "      <td>-3.674877</td>\n",
       "      <td>0</td>\n",
       "      <td>0</td>\n",
       "      <td>0</td>\n",
       "      <td>0</td>\n",
       "      <td>0</td>\n",
       "      <td>0</td>\n",
       "      <td>0</td>\n",
       "      <td>...</td>\n",
       "      <td>0</td>\n",
       "      <td>0</td>\n",
       "      <td>0</td>\n",
       "      <td>0</td>\n",
       "      <td>0</td>\n",
       "      <td>0</td>\n",
       "      <td>0</td>\n",
       "      <td>0</td>\n",
       "      <td>1</td>\n",
       "      <td>0</td>\n",
       "    </tr>\n",
       "    <tr>\n",
       "      <th>2017-02-02 10:57:25</th>\n",
       "      <td>-2.753830</td>\n",
       "      <td>-4.212731</td>\n",
       "      <td>-9.210340</td>\n",
       "      <td>0</td>\n",
       "      <td>0</td>\n",
       "      <td>0</td>\n",
       "      <td>0</td>\n",
       "      <td>0</td>\n",
       "      <td>0</td>\n",
       "      <td>0</td>\n",
       "      <td>...</td>\n",
       "      <td>0</td>\n",
       "      <td>0</td>\n",
       "      <td>0</td>\n",
       "      <td>0</td>\n",
       "      <td>0</td>\n",
       "      <td>0</td>\n",
       "      <td>0</td>\n",
       "      <td>0</td>\n",
       "      <td>0</td>\n",
       "      <td>0</td>\n",
       "    </tr>\n",
       "    <tr>\n",
       "      <th>2017-02-02 11:00:03</th>\n",
       "      <td>-2.550825</td>\n",
       "      <td>-4.212731</td>\n",
       "      <td>-3.897035</td>\n",
       "      <td>0</td>\n",
       "      <td>0</td>\n",
       "      <td>0</td>\n",
       "      <td>0</td>\n",
       "      <td>0</td>\n",
       "      <td>0</td>\n",
       "      <td>0</td>\n",
       "      <td>...</td>\n",
       "      <td>0</td>\n",
       "      <td>0</td>\n",
       "      <td>0</td>\n",
       "      <td>1</td>\n",
       "      <td>0</td>\n",
       "      <td>0</td>\n",
       "      <td>0</td>\n",
       "      <td>0</td>\n",
       "      <td>0</td>\n",
       "      <td>0</td>\n",
       "    </tr>\n",
       "  </tbody>\n",
       "</table>\n",
       "<p>5 rows × 46 columns</p>\n",
       "</div>"
      ],
      "text/plain": [
       "                     articleWordCount  multimedia  printPage  Arts&Leisure  \\\n",
       "date                                                                         \n",
       "2017-02-02 00:26:16         -2.679697   -4.212731  -2.801712             0   \n",
       "2017-02-02 10:00:24         -1.670163   -4.212731  -5.268661             1   \n",
       "2017-02-02 10:01:53         -3.173032   -4.212731  -3.674877             0   \n",
       "2017-02-02 10:57:25         -2.753830   -4.212731  -9.210340             0   \n",
       "2017-02-02 11:00:03         -2.550825   -4.212731  -3.897035             0   \n",
       "\n",
       "                     BookReview  Business  Climate  Culture  Dining  EdLife  \\\n",
       "date                                                                          \n",
       "2017-02-02 00:26:16           0         0        0        0       0       0   \n",
       "2017-02-02 10:00:24           0         0        0        0       0       0   \n",
       "2017-02-02 10:01:53           0         0        0        0       0       0   \n",
       "2017-02-02 10:57:25           0         0        0        0       0       0   \n",
       "2017-02-02 11:00:03           0         0        0        0       0       0   \n",
       "\n",
       "                     ...   Summary  SundayBusiness  TStyle  Travel  Unknown  \\\n",
       "date                 ...                                                      \n",
       "2017-02-02 00:26:16  ...         0               0       0       0        0   \n",
       "2017-02-02 10:00:24  ...         0               0       0       0        0   \n",
       "2017-02-02 10:01:53  ...         0               0       0       0        0   \n",
       "2017-02-02 10:57:25  ...         0               0       0       0        0   \n",
       "2017-02-02 11:00:03  ...         0               0       0       1        0   \n",
       "\n",
       "                     Upshot  Video  Washington  Weekend  Well  \n",
       "date                                                           \n",
       "2017-02-02 00:26:16       0      0           0        0     0  \n",
       "2017-02-02 10:00:24       0      0           0        0     0  \n",
       "2017-02-02 10:01:53       0      0           0        1     0  \n",
       "2017-02-02 10:57:25       0      0           0        0     0  \n",
       "2017-02-02 11:00:03       0      0           0        0     0  \n",
       "\n",
       "[5 rows x 46 columns]"
      ]
     },
     "execution_count": 64,
     "metadata": {},
     "output_type": "execute_result"
    }
   ],
   "source": [
    "articles_time.head()\n",
    "# comments_time.tail()"
   ]
  },
  {
   "cell_type": "code",
   "execution_count": 68,
   "metadata": {},
   "outputs": [
    {
     "ename": "KeyError",
     "evalue": "'pubDate'",
     "output_type": "error",
     "traceback": [
      "\u001b[0;31m---------------------------------------------------------------------------\u001b[0m",
      "\u001b[0;31mKeyError\u001b[0m                                  Traceback (most recent call last)",
      "\u001b[0;32m<ipython-input-68-e3b6e6a314a7>\u001b[0m in \u001b[0;36m<module>\u001b[0;34m()\u001b[0m\n\u001b[0;32m----> 1\u001b[0;31m \u001b[0mdf\u001b[0m \u001b[0;34m=\u001b[0m \u001b[0marticles_time\u001b[0m\u001b[0;34m.\u001b[0m\u001b[0mgroupby\u001b[0m\u001b[0;34m(\u001b[0m\u001b[0;34m'pubDate'\u001b[0m\u001b[0;34m)\u001b[0m\u001b[0;34m[\u001b[0m\u001b[0;34m'articleID'\u001b[0m\u001b[0;34m,\u001b[0m \u001b[0;34m'pubDate'\u001b[0m\u001b[0;34m]\u001b[0m\u001b[0;34m.\u001b[0m\u001b[0mcount\u001b[0m\u001b[0;34m(\u001b[0m\u001b[0;34m)\u001b[0m\u001b[0;34m\u001b[0m\u001b[0m\n\u001b[0m",
      "\u001b[0;32m~/anaconda3/envs/learn-env/lib/python3.6/site-packages/pandas/core/generic.py\u001b[0m in \u001b[0;36mgroupby\u001b[0;34m(self, by, axis, level, as_index, sort, group_keys, squeeze, observed, **kwargs)\u001b[0m\n\u001b[1;32m   6663\u001b[0m         return groupby(self, by=by, axis=axis, level=level, as_index=as_index,\n\u001b[1;32m   6664\u001b[0m                        \u001b[0msort\u001b[0m\u001b[0;34m=\u001b[0m\u001b[0msort\u001b[0m\u001b[0;34m,\u001b[0m \u001b[0mgroup_keys\u001b[0m\u001b[0;34m=\u001b[0m\u001b[0mgroup_keys\u001b[0m\u001b[0;34m,\u001b[0m \u001b[0msqueeze\u001b[0m\u001b[0;34m=\u001b[0m\u001b[0msqueeze\u001b[0m\u001b[0;34m,\u001b[0m\u001b[0;34m\u001b[0m\u001b[0m\n\u001b[0;32m-> 6665\u001b[0;31m                        observed=observed, **kwargs)\n\u001b[0m\u001b[1;32m   6666\u001b[0m \u001b[0;34m\u001b[0m\u001b[0m\n\u001b[1;32m   6667\u001b[0m     def asfreq(self, freq, method=None, how=None, normalize=False,\n",
      "\u001b[0;32m~/anaconda3/envs/learn-env/lib/python3.6/site-packages/pandas/core/groupby/groupby.py\u001b[0m in \u001b[0;36mgroupby\u001b[0;34m(obj, by, **kwds)\u001b[0m\n\u001b[1;32m   2150\u001b[0m         \u001b[0;32mraise\u001b[0m \u001b[0mTypeError\u001b[0m\u001b[0;34m(\u001b[0m\u001b[0;34m'invalid type: %s'\u001b[0m \u001b[0;34m%\u001b[0m \u001b[0mtype\u001b[0m\u001b[0;34m(\u001b[0m\u001b[0mobj\u001b[0m\u001b[0;34m)\u001b[0m\u001b[0;34m)\u001b[0m\u001b[0;34m\u001b[0m\u001b[0m\n\u001b[1;32m   2151\u001b[0m \u001b[0;34m\u001b[0m\u001b[0m\n\u001b[0;32m-> 2152\u001b[0;31m     \u001b[0;32mreturn\u001b[0m \u001b[0mklass\u001b[0m\u001b[0;34m(\u001b[0m\u001b[0mobj\u001b[0m\u001b[0;34m,\u001b[0m \u001b[0mby\u001b[0m\u001b[0;34m,\u001b[0m \u001b[0;34m**\u001b[0m\u001b[0mkwds\u001b[0m\u001b[0;34m)\u001b[0m\u001b[0;34m\u001b[0m\u001b[0m\n\u001b[0m\u001b[1;32m   2153\u001b[0m \u001b[0;34m\u001b[0m\u001b[0m\n\u001b[1;32m   2154\u001b[0m \u001b[0;34m\u001b[0m\u001b[0m\n",
      "\u001b[0;32m~/anaconda3/envs/learn-env/lib/python3.6/site-packages/pandas/core/groupby/groupby.py\u001b[0m in \u001b[0;36m__init__\u001b[0;34m(self, obj, keys, axis, level, grouper, exclusions, selection, as_index, sort, group_keys, squeeze, observed, **kwargs)\u001b[0m\n\u001b[1;32m    597\u001b[0m                                                     \u001b[0msort\u001b[0m\u001b[0;34m=\u001b[0m\u001b[0msort\u001b[0m\u001b[0;34m,\u001b[0m\u001b[0;34m\u001b[0m\u001b[0m\n\u001b[1;32m    598\u001b[0m                                                     \u001b[0mobserved\u001b[0m\u001b[0;34m=\u001b[0m\u001b[0mobserved\u001b[0m\u001b[0;34m,\u001b[0m\u001b[0;34m\u001b[0m\u001b[0m\n\u001b[0;32m--> 599\u001b[0;31m                                                     mutated=self.mutated)\n\u001b[0m\u001b[1;32m    600\u001b[0m \u001b[0;34m\u001b[0m\u001b[0m\n\u001b[1;32m    601\u001b[0m         \u001b[0mself\u001b[0m\u001b[0;34m.\u001b[0m\u001b[0mobj\u001b[0m \u001b[0;34m=\u001b[0m \u001b[0mobj\u001b[0m\u001b[0;34m\u001b[0m\u001b[0m\n",
      "\u001b[0;32m~/anaconda3/envs/learn-env/lib/python3.6/site-packages/pandas/core/groupby/groupby.py\u001b[0m in \u001b[0;36m_get_grouper\u001b[0;34m(obj, key, axis, level, sort, observed, mutated, validate)\u001b[0m\n\u001b[1;32m   3289\u001b[0m                 \u001b[0min_axis\u001b[0m\u001b[0;34m,\u001b[0m \u001b[0mname\u001b[0m\u001b[0;34m,\u001b[0m \u001b[0mlevel\u001b[0m\u001b[0;34m,\u001b[0m \u001b[0mgpr\u001b[0m \u001b[0;34m=\u001b[0m \u001b[0;32mFalse\u001b[0m\u001b[0;34m,\u001b[0m \u001b[0;32mNone\u001b[0m\u001b[0;34m,\u001b[0m \u001b[0mgpr\u001b[0m\u001b[0;34m,\u001b[0m \u001b[0;32mNone\u001b[0m\u001b[0;34m\u001b[0m\u001b[0m\n\u001b[1;32m   3290\u001b[0m             \u001b[0;32melse\u001b[0m\u001b[0;34m:\u001b[0m\u001b[0;34m\u001b[0m\u001b[0m\n\u001b[0;32m-> 3291\u001b[0;31m                 \u001b[0;32mraise\u001b[0m \u001b[0mKeyError\u001b[0m\u001b[0;34m(\u001b[0m\u001b[0mgpr\u001b[0m\u001b[0;34m)\u001b[0m\u001b[0;34m\u001b[0m\u001b[0m\n\u001b[0m\u001b[1;32m   3292\u001b[0m         \u001b[0;32melif\u001b[0m \u001b[0misinstance\u001b[0m\u001b[0;34m(\u001b[0m\u001b[0mgpr\u001b[0m\u001b[0;34m,\u001b[0m \u001b[0mGrouper\u001b[0m\u001b[0;34m)\u001b[0m \u001b[0;32mand\u001b[0m \u001b[0mgpr\u001b[0m\u001b[0;34m.\u001b[0m\u001b[0mkey\u001b[0m \u001b[0;32mis\u001b[0m \u001b[0;32mnot\u001b[0m \u001b[0;32mNone\u001b[0m\u001b[0;34m:\u001b[0m\u001b[0;34m\u001b[0m\u001b[0m\n\u001b[1;32m   3293\u001b[0m             \u001b[0;31m# Add key to exclusions\u001b[0m\u001b[0;34m\u001b[0m\u001b[0;34m\u001b[0m\u001b[0m\n",
      "\u001b[0;31mKeyError\u001b[0m: 'pubDate'"
     ]
    }
   ],
   "source": [
    "df = articles_time.groupby('pubDate')['articleID', 'pubDate'].count()"
   ]
  },
  {
   "cell_type": "code",
   "execution_count": null,
   "metadata": {},
   "outputs": [],
   "source": [
    "df.plot()"
   ]
  },
  {
   "cell_type": "code",
   "execution_count": null,
   "metadata": {},
   "outputs": [],
   "source": [
    "#Group data\n",
    "df_year = df.groupby(pd.Grouper(freq='A'))\n",
    "df_year.head()"
   ]
  },
  {
   "cell_type": "code",
   "execution_count": null,
   "metadata": {},
   "outputs": [],
   "source": [
    "#plot\n",
    "df_year.plot(style='.b')"
   ]
  },
  {
   "cell_type": "code",
   "execution_count": null,
   "metadata": {},
   "outputs": [],
   "source": [
    "df_week = df.groupby(pd.Grouper(freq='W'))\n",
    "week_mean = df_week.mean()"
   ]
  },
  {
   "cell_type": "code",
   "execution_count": null,
   "metadata": {},
   "outputs": [],
   "source": [
    "week_mean.plot(figsize=(10, 8))"
   ]
  },
  {
   "cell_type": "code",
   "execution_count": null,
   "metadata": {},
   "outputs": [],
   "source": [
    "#view trends and seasonality"
   ]
  },
  {
   "cell_type": "code",
   "execution_count": null,
   "metadata": {},
   "outputs": [],
   "source": [
    "rolmean = df_year.articleID.rolling(window=4, center= False).mean()\n",
    "rolstd = df_year.articleID.rolling(window=12, center=False).std()"
   ]
  },
  {
   "cell_type": "code",
   "execution_count": null,
   "metadata": {},
   "outputs": [],
   "source": [
    "df_year.plot()"
   ]
  },
  {
   "cell_type": "code",
   "execution_count": null,
   "metadata": {},
   "outputs": [],
   "source": [
    "rolmean.plot()"
   ]
  },
  {
   "cell_type": "code",
   "execution_count": null,
   "metadata": {},
   "outputs": [],
   "source": [
    "rolstd.plot()"
   ]
  },
  {
   "cell_type": "code",
   "execution_count": null,
   "metadata": {},
   "outputs": [],
   "source": [
    "fig = plt.figure(figsize=(12, 6))\n",
    "# orig = plt.plot(df_year.articleID, color='blue', label='Original')\n",
    "# mean = plt.plot(rolmean, color='red', label='Rolling Mean')\n",
    "# std = plt.plot(rolstd, color='black', label='Rolling Std')\n",
    "# plt.legend(loc='best')\n",
    "# plt.title('Rolling Mean & Standard Deviation')\n",
    "# plt.show()\n",
    "## error due to shape mismatch. need to debug"
   ]
  },
  {
   "cell_type": "code",
   "execution_count": null,
   "metadata": {},
   "outputs": [],
   "source": [
    "#Dickey-Fuller test to verify stationarity"
   ]
  },
  {
   "cell_type": "code",
   "execution_count": null,
   "metadata": {},
   "outputs": [],
   "source": [
    "from statsmodels.tsa.stattools import adfuller\n",
    "df_year.head()"
   ]
  },
  {
   "cell_type": "code",
   "execution_count": null,
   "metadata": {},
   "outputs": [],
   "source": [
    "print('Results of Dickey-Fuller Test:')\n",
    "dftest = adfuller(df_year['articleID'])"
   ]
  },
  {
   "cell_type": "code",
   "execution_count": null,
   "metadata": {},
   "outputs": [],
   "source": [
    "dfoutput = pd.Series(dftest[0:4], index=['Test Statistic', 'p-value', 'Lags Used', 'Number of Observations Used'])\n",
    "for key, value in dftest[4].items():\n",
    "    dfoutput['Critical Value (%s)'%key] = value\n",
    "print(dfoutput)"
   ]
  },
  {
   "cell_type": "code",
   "execution_count": null,
   "metadata": {},
   "outputs": [],
   "source": [
    "#do same for comments"
   ]
  },
  {
   "cell_type": "code",
   "execution_count": null,
   "metadata": {},
   "outputs": [],
   "source": [
    "# df_comments = comments_time.groupby('date')['commentID','createDate'].count()"
   ]
  },
  {
   "cell_type": "code",
   "execution_count": null,
   "metadata": {},
   "outputs": [],
   "source": [
    "# df_comments['createDate'] = pd.to_datetime(df_comments['createDate'])"
   ]
  },
  {
   "cell_type": "code",
   "execution_count": null,
   "metadata": {},
   "outputs": [],
   "source": [
    "# df_comments.head()"
   ]
  },
  {
   "cell_type": "code",
   "execution_count": null,
   "metadata": {},
   "outputs": [],
   "source": [
    "# df_comments.info()"
   ]
  },
  {
   "cell_type": "code",
   "execution_count": null,
   "metadata": {},
   "outputs": [],
   "source": [
    "# df2_year = df_comments.groupby(pd.Grouper(freq='A'))"
   ]
  },
  {
   "cell_type": "code",
   "execution_count": null,
   "metadata": {},
   "outputs": [],
   "source": [
    "# df2_year.plot(figsize=(10,8))"
   ]
  },
  {
   "cell_type": "markdown",
   "metadata": {},
   "source": [
    "__NLP Analysis__"
   ]
  },
  {
   "cell_type": "code",
   "execution_count": 69,
   "metadata": {},
   "outputs": [],
   "source": [
    "path2 = '/Users/paulraymond/Downloads/nyt-comments/Comments'\n",
    "all_files2 = glob.glob(path2 + \"/*\")\n",
    "\n",
    "files2 = []\n",
    "\n",
    "for filename in all_files2:\n",
    "    df = pd.read_csv(filename, index_col = None, header=0)\n",
    "    files2.append(df)\n",
    "    \n",
    "comments = pd.concat(files2, axis=0, ignore_index=True)"
   ]
  },
  {
   "cell_type": "code",
   "execution_count": 70,
   "metadata": {},
   "outputs": [],
   "source": [
    "#create train and test sets\n",
    "train = comments[:499999]\n",
    "test = comments[500000:599999]"
   ]
  },
  {
   "cell_type": "code",
   "execution_count": 71,
   "metadata": {},
   "outputs": [
    {
     "name": "stdout",
     "output_type": "stream",
     "text": [
      "0    The snake-filled heads comment made me think o...\n",
      "Name: commentBody, dtype: object\n",
      "0    0\n",
      "Name: editorsSelection, dtype: int64\n",
      "500000      Before I read this article I had never thoug...\n",
      "Name: commentBody, dtype: object\n",
      "500000    0\n",
      "Name: editorsSelection, dtype: int64\n"
     ]
    },
    {
     "data": {
      "text/plain": [
       "array([0, 1])"
      ]
     },
     "execution_count": 71,
     "metadata": {},
     "output_type": "execute_result"
    }
   ],
   "source": [
    "#organize by flagged comments and unflagged comments, and view first rows\n",
    "comments_train = train['commentBody']\n",
    "target_train = train['editorsSelection']\n",
    "comments_test = test['commentBody']\n",
    "target_test = test['editorsSelection']\n",
    "print(comments_train.head(1))\n",
    "print(target_train.head(1))\n",
    "print(comments_test.head(1))\n",
    "print(target_test.head(1))\n",
    "target_train.unique()"
   ]
  },
  {
   "cell_type": "code",
   "execution_count": 72,
   "metadata": {},
   "outputs": [],
   "source": [
    "#import libraries used in lab\n",
    "import nltk\n",
    "from nltk.corpus import stopwords\n",
    "import string\n",
    "from nltk import word_tokenize, FreqDist\n",
    "from sklearn.feature_extraction.text import TfidfVectorizer\n",
    "from sklearn.metrics import accuracy_score\n",
    "# from sklearn.datasets import fetch_20newsgroups\n",
    "from sklearn.ensemble import RandomForestClassifier\n",
    "from sklearn.naive_bayes import MultinomialNB\n",
    "import pandas as pd\n",
    "import numpy as np"
   ]
  },
  {
   "cell_type": "code",
   "execution_count": 73,
   "metadata": {},
   "outputs": [
    {
     "name": "stdout",
     "output_type": "stream",
     "text": [
      "(499999,)\n",
      "(499999,)\n",
      "(99999,)\n",
      "(99999,)\n"
     ]
    }
   ],
   "source": [
    "print(comments_train.shape)\n",
    "print(target_train.shape)\n",
    "print(comments_test.shape)\n",
    "print(target_test.shape)"
   ]
  },
  {
   "cell_type": "code",
   "execution_count": 74,
   "metadata": {},
   "outputs": [],
   "source": [
    "#create list of stop words\n",
    "stopwords_list = stopwords.words('english') + list(string.punctuation)\n",
    "stopwords_list += [\"''\", '\"\"', '...', '``', 'br/',\"'\"]"
   ]
  },
  {
   "cell_type": "code",
   "execution_count": 75,
   "metadata": {},
   "outputs": [],
   "source": [
    "#test the nltk method\n",
    "def process_comments(comment):\n",
    "    tokens = nltk.word_tokenize(comment)\n",
    "    stopwords_removed = [token.lower() for token in tokens if token not in stopwords_list]\n",
    "    return stopwords_removed"
   ]
  },
  {
   "cell_type": "code",
   "execution_count": 76,
   "metadata": {},
   "outputs": [],
   "source": [
    "processed_data = list(map(process_comments, comments_train))"
   ]
  },
  {
   "cell_type": "code",
   "execution_count": 77,
   "metadata": {},
   "outputs": [
    {
     "data": {
      "text/plain": [
       "['the',\n",
       " 'snake-filled',\n",
       " 'heads',\n",
       " 'comment',\n",
       " 'made',\n",
       " 'think',\n",
       " 'medusa',\n",
       " 'i',\n",
       " 'hope',\n",
       " 'loses',\n",
       " 'retrograde']"
      ]
     },
     "execution_count": 77,
     "metadata": {},
     "output_type": "execute_result"
    }
   ],
   "source": [
    "processed_data[0]"
   ]
  },
  {
   "cell_type": "code",
   "execution_count": 78,
   "metadata": {},
   "outputs": [
    {
     "data": {
      "text/plain": [
       "275082"
      ]
     },
     "execution_count": 78,
     "metadata": {},
     "output_type": "execute_result"
    }
   ],
   "source": [
    "total_vocab = set()\n",
    "for comment in processed_data:\n",
    "    total_vocab.update(comment)\n",
    "len(total_vocab)"
   ]
  },
  {
   "cell_type": "code",
   "execution_count": 79,
   "metadata": {},
   "outputs": [],
   "source": [
    "comments_concat = []\n",
    "for comment in processed_data:\n",
    "    comments_concat += comment"
   ]
  },
  {
   "cell_type": "code",
   "execution_count": 80,
   "metadata": {},
   "outputs": [
    {
     "data": {
      "text/plain": [
       "[('i', 396086),\n",
       " (\"'s\", 249705),\n",
       " ('trump', 182428),\n",
       " ('the', 177937),\n",
       " (\"n't\", 161772),\n",
       " ('people', 118393),\n",
       " ('would', 114759),\n",
       " ('’', 104447),\n",
       " ('it', 98198),\n",
       " ('one', 97339),\n",
       " ('like', 87709),\n",
       " ('us', 76157),\n",
       " ('get', 59842),\n",
       " ('many', 58948),\n",
       " ('and', 58582),\n",
       " ('time', 55970),\n",
       " ('this', 55481),\n",
       " ('we', 54666),\n",
       " ('even', 53858),\n",
       " ('think', 51769)]"
      ]
     },
     "execution_count": 80,
     "metadata": {},
     "output_type": "execute_result"
    }
   ],
   "source": [
    "comments_freqdist = FreqDist(comments_concat)\n",
    "comments_freqdist.most_common(20)"
   ]
  },
  {
   "cell_type": "code",
   "execution_count": 81,
   "metadata": {},
   "outputs": [],
   "source": [
    "#would like to remove additional prepositions and stop words and consider bigrams"
   ]
  },
  {
   "cell_type": "code",
   "execution_count": 82,
   "metadata": {},
   "outputs": [],
   "source": [
    "#add bigrams and threshold"
   ]
  },
  {
   "cell_type": "code",
   "execution_count": 83,
   "metadata": {},
   "outputs": [],
   "source": [
    "# Vectorizing with TF-IDF"
   ]
  },
  {
   "cell_type": "code",
   "execution_count": 84,
   "metadata": {},
   "outputs": [],
   "source": [
    "from sklearn.feature_extraction.text import TfidfVectorizer"
   ]
  },
  {
   "cell_type": "code",
   "execution_count": 85,
   "metadata": {},
   "outputs": [],
   "source": [
    "vectorizer = TfidfVectorizer()"
   ]
  },
  {
   "cell_type": "code",
   "execution_count": 86,
   "metadata": {},
   "outputs": [],
   "source": [
    "tf_idf_data_train = vectorizer.fit_transform(comments_train)"
   ]
  },
  {
   "cell_type": "code",
   "execution_count": 87,
   "metadata": {},
   "outputs": [],
   "source": [
    "tf_idf_data_test = vectorizer.transform(comments_test)"
   ]
  },
  {
   "cell_type": "code",
   "execution_count": 88,
   "metadata": {},
   "outputs": [],
   "source": [
    "#modeling the data"
   ]
  },
  {
   "cell_type": "code",
   "execution_count": 89,
   "metadata": {},
   "outputs": [
    {
     "data": {
      "text/plain": [
       "(499999, 149134)"
      ]
     },
     "execution_count": 89,
     "metadata": {},
     "output_type": "execute_result"
    }
   ],
   "source": [
    "tf_idf_data_train.shape"
   ]
  },
  {
   "cell_type": "code",
   "execution_count": 90,
   "metadata": {},
   "outputs": [
    {
     "name": "stdout",
     "output_type": "stream",
     "text": [
      "Average Number of Non-Zero Elements in Vectorized Articles: 50.2237684475369\n",
      "Percentage of columns containing 0: 0.9996632305949849\n"
     ]
    }
   ],
   "source": [
    "non_zero_cols = tf_idf_data_train.nnz / float(tf_idf_data_train.shape[0])\n",
    "print(\"Average Number of Non-Zero Elements in Vectorized Articles: {}\".format(non_zero_cols))\n",
    "\n",
    "percent_sparse = 1 - (non_zero_cols / float(tf_idf_data_train.shape[1]))\n",
    "print('Percentage of columns containing 0: {}'.format(percent_sparse))"
   ]
  },
  {
   "cell_type": "code",
   "execution_count": 91,
   "metadata": {},
   "outputs": [],
   "source": [
    "nb_classifier = MultinomialNB()\n",
    "rf_classifier = RandomForestClassifier(n_estimators=10)\n",
    "#should this be 100?"
   ]
  },
  {
   "cell_type": "code",
   "execution_count": 92,
   "metadata": {},
   "outputs": [],
   "source": [
    "nb_classifier.fit(tf_idf_data_train, target_train)\n",
    "nb_train_preds = nb_classifier.predict(tf_idf_data_train)\n",
    "nb_test_preds = nb_classifier.predict(tf_idf_data_test)"
   ]
  },
  {
   "cell_type": "code",
   "execution_count": 93,
   "metadata": {},
   "outputs": [],
   "source": [
    "rf_classifier.fit(tf_idf_data_train, target_train)\n",
    "rf_train_preds = rf_classifier.predict(tf_idf_data_train)\n",
    "rf_test_preds = rf_classifier.predict(tf_idf_data_test)"
   ]
  },
  {
   "cell_type": "code",
   "execution_count": 94,
   "metadata": {},
   "outputs": [
    {
     "name": "stdout",
     "output_type": "stream",
     "text": [
      "(499999,)\n",
      "(499999,)\n"
     ]
    }
   ],
   "source": [
    "print(target_train.shape)\n",
    "print(nb_train_preds.shape)"
   ]
  },
  {
   "cell_type": "code",
   "execution_count": 95,
   "metadata": {},
   "outputs": [],
   "source": [
    "nb_train_score = accuracy_score(target_train, nb_train_preds)\n",
    "nb_test_score = accuracy_score(target_test, nb_test_preds)\n",
    "rf_train_score = accuracy_score(target_train, rf_train_preds)\n",
    "rf_test_score = accuracy_score(target_test, rf_test_preds)"
   ]
  },
  {
   "cell_type": "code",
   "execution_count": 96,
   "metadata": {},
   "outputs": [
    {
     "name": "stdout",
     "output_type": "stream",
     "text": [
      "Multinomial Naive Bayes\n",
      "Training Accuracy: 0.9842 \t\t Testing Accuracy: 0.9791\n",
      "\n",
      "----------------------------------------------------------------------\n",
      "\n",
      "Random Forest\n",
      "Training Accuracy: 0.9957 \t\t Testing Accuracy: 0.9791\n"
     ]
    }
   ],
   "source": [
    "print(\"Multinomial Naive Bayes\")\n",
    "print(\"Training Accuracy: {:.4} \\t\\t Testing Accuracy: {:.4}\".format(nb_train_score, nb_test_score))\n",
    "print(\"\")\n",
    "print('-'*70)\n",
    "print(\"\")\n",
    "print('Random Forest')\n",
    "print(\"Training Accuracy: {:.4} \\t\\t Testing Accuracy: {:.4}\".format(rf_train_score, rf_test_score))"
   ]
  },
  {
   "cell_type": "code",
   "execution_count": 97,
   "metadata": {},
   "outputs": [],
   "source": [
    "#import classification report library\n",
    "from sklearn.metrics import classification_report"
   ]
  },
  {
   "cell_type": "code",
   "execution_count": 98,
   "metadata": {},
   "outputs": [
    {
     "name": "stdout",
     "output_type": "stream",
     "text": [
      "NB Classification report:\n",
      "              precision    recall  f1-score   support\n",
      "\n",
      "           0       0.98      1.00      0.99     97910\n",
      "           1       0.00      0.00      0.00      2089\n",
      "\n",
      "   micro avg       0.98      0.98      0.98     99999\n",
      "   macro avg       0.49      0.50      0.49     99999\n",
      "weighted avg       0.96      0.98      0.97     99999\n",
      "\n",
      "-----------------------------------------------------\n",
      "RF Classification report:\n",
      "              precision    recall  f1-score   support\n",
      "\n",
      "           0       0.98      1.00      0.99     97910\n",
      "           1       0.00      0.00      0.00      2089\n",
      "\n",
      "   micro avg       0.98      0.98      0.98     99999\n",
      "   macro avg       0.49      0.50      0.49     99999\n",
      "weighted avg       0.96      0.98      0.97     99999\n",
      "\n"
     ]
    }
   ],
   "source": [
    "print('NB Classification report:')\n",
    "print(classification_report(target_test, nb_test_preds))\n",
    "print(\"-----------------------------------------------------\")\n",
    "print('RF Classification report:')\n",
    "print(classification_report(target_test, rf_test_preds))"
   ]
  },
  {
   "cell_type": "code",
   "execution_count": 99,
   "metadata": {},
   "outputs": [],
   "source": [
    "#both models did a poor job predicting selected comments"
   ]
  },
  {
   "cell_type": "code",
   "execution_count": 100,
   "metadata": {},
   "outputs": [],
   "source": [
    "#plot confusion matrix\n",
    "def plot_confusion_matrix(cm, classes,\n",
    "                          normalize=False,\n",
    "                          title='Confusion matrix',\n",
    "                          cmap=plt.cm.Blues):\n",
    "    #Add Normalization Option\n",
    "    if normalize:\n",
    "        cm = cm.astype('float') / cm.sum(axis=1)[:, np.newaxis]\n",
    "        print(\"Normalized confusion matrix\")\n",
    "    else:\n",
    "        print('Confusion matrix, without normalization')\n",
    "\n",
    "    print(cm)\n",
    "\n",
    "    plt.imshow(cm, interpolation='nearest', cmap=cmap)\n",
    "    plt.title(title)\n",
    "    plt.colorbar()\n",
    "    tick_marks = np.arange(len(classes))\n",
    "    plt.xticks(tick_marks, classes, rotation=45)\n",
    "    plt.yticks(tick_marks, classes)\n",
    "\n",
    "    fmt = '.2f' if normalize else 'd'\n",
    "    thresh = cm.max() / 2.\n",
    "    for i, j in itertools.product(range(cm.shape[0]), range(cm.shape[1])):\n",
    "        plt.text(j, i, format(cm[i, j], fmt),\n",
    "                 horizontalalignment=\"center\",\n",
    "                 color=\"white\" if cm[i, j] > thresh else \"black\")\n",
    "\n",
    "    plt.tight_layout()\n",
    "    plt.ylabel('True label')\n",
    "    plt.xlabel('Predicted label')"
   ]
  },
  {
   "cell_type": "code",
   "execution_count": 101,
   "metadata": {},
   "outputs": [],
   "source": [
    "#import confusion matrix library\n",
    "from sklearn.metrics import confusion_matrix\n",
    "import itertools"
   ]
  },
  {
   "cell_type": "code",
   "execution_count": 102,
   "metadata": {},
   "outputs": [
    {
     "name": "stdout",
     "output_type": "stream",
     "text": [
      "Confusion matrix, without normalization\n",
      "[[97910  2089]\n",
      " [    0     0]]\n"
     ]
    },
    {
     "data": {
      "image/png": "[encoded data removed]",
      "text/plain": [
       "<Figure size 432x288 with 2 Axes>"
      ]
     },
     "metadata": {},
     "output_type": "display_data"
    }
   ],
   "source": [
    "cnf_matrix = confusion_matrix(nb_test_preds, target_test)\n",
    "plot_confusion_matrix(cnf_matrix, classes=[0,1])"
   ]
  },
  {
   "cell_type": "code",
   "execution_count": 103,
   "metadata": {},
   "outputs": [],
   "source": [
    "#import ROC and AUC libraries\n",
    "from sklearn.metrics import roc_curve, auc"
   ]
  },
  {
   "cell_type": "code",
   "execution_count": 104,
   "metadata": {},
   "outputs": [
    {
     "name": "stdout",
     "output_type": "stream",
     "text": [
      "AUC: 0.5\n"
     ]
    },
    {
     "data": {
      "image/png": "[encoded data removed]",
      "text/plain": [
       "<Figure size 720x576 with 1 Axes>"
      ]
     },
     "metadata": {},
     "output_type": "display_data"
    }
   ],
   "source": [
    "#false and true positive rate\n",
    "fpr, tpr, thresholds = roc_curve(target_test, nb_test_preds)\n",
    "#seaborn styling\n",
    "# sns.set_style('whitegrid')\n",
    "print('AUC: {}'.format(auc(fpr, tpr)))\n",
    "plt.figure(figsize=(10,8))\n",
    "lw=2\n",
    "plt.plot(fpr, tpr, color='darkorange', lw=lw, label='ROC curve')\n",
    "plt.plot([0, 1], [0, 1], color='navy', lw=lw, linestyle='--')\n",
    "plt.xlim([0.0, 1.0])\n",
    "plt.ylim([0.0, 1.05])\n",
    "plt.yticks([i/20.0 for i in range(21)])\n",
    "plt.xticks([i/20.0 for i in range(21)])\n",
    "plt.xlabel('False Positive Rate')\n",
    "plt.ylabel('True Positive Rate')\n",
    "plt.title('Receiver operating characteristic (ROC) Curve')\n",
    "plt.legend(loc='lower right')\n",
    "plt.show()"
   ]
  },
  {
   "cell_type": "code",
   "execution_count": 105,
   "metadata": {},
   "outputs": [],
   "source": [
    "# the curve shows that the model is no better than random guessing!"
   ]
  },
  {
   "cell_type": "code",
   "execution_count": 106,
   "metadata": {},
   "outputs": [],
   "source": [
    "#address class imbalance"
   ]
  },
  {
   "cell_type": "code",
   "execution_count": 107,
   "metadata": {},
   "outputs": [],
   "source": [
    "#import class imbalance libraries\n",
    "from imblearn.over_sampling import SMOTE, ADASYN"
   ]
  },
  {
   "cell_type": "code",
   "execution_count": 108,
   "metadata": {},
   "outputs": [],
   "source": [
    "#use SMOTE to imporve the model's performance on the minority class"
   ]
  },
  {
   "cell_type": "code",
   "execution_count": 109,
   "metadata": {},
   "outputs": [
    {
     "name": "stdout",
     "output_type": "stream",
     "text": [
      "0    492130\n",
      "1      7869\n",
      "Name: editorsSelection, dtype: int64\n"
     ]
    }
   ],
   "source": [
    "print(target_train.value_counts())"
   ]
  },
  {
   "cell_type": "code",
   "execution_count": 110,
   "metadata": {},
   "outputs": [],
   "source": [
    "#less than 2% of target values are selected (\"1\")"
   ]
  },
  {
   "cell_type": "code",
   "execution_count": 111,
   "metadata": {},
   "outputs": [],
   "source": [
    "#import train test split library\n",
    "from sklearn.model_selection import train_test_split\n",
    "from sklearn import metrics"
   ]
  },
  {
   "cell_type": "code",
   "execution_count": 112,
   "metadata": {},
   "outputs": [],
   "source": [
    "# X_train_resampled, y_train_resampled = SMOTE().fit_sample(comments_train, target_train)\n",
    "# print(pd.Series(y_train_resampled).value_counts())"
   ]
  },
  {
   "cell_type": "code",
   "execution_count": 113,
   "metadata": {},
   "outputs": [],
   "source": [
    "#try over sampling\n",
    "from sklearn.datasets import make_classification\n",
    "from imblearn.over_sampling import RandomOverSampler\n",
    "from collections import Counter\n",
    "# >>> smote_nc = SMOTENC(categorical_features=[0, 2], random_state=0)"
   ]
  },
  {
   "cell_type": "code",
   "execution_count": 114,
   "metadata": {},
   "outputs": [],
   "source": [
    "# X, y = make_classification(n_samples=500000, n_features=10, n_informative=2,\n",
    "#                             n_redundant=0, n_repeated=0, n_classes=3,\n",
    "#                             n_clusters_per_class=1,\n",
    "#                             weights=[0.01, 0.05, 0.94],\n",
    "#                             class_sep=0.8, random_state=0)"
   ]
  },
  {
   "cell_type": "code",
   "execution_count": 115,
   "metadata": {},
   "outputs": [],
   "source": [
    "# ros = RandomOverSampler(random_state=0)"
   ]
  },
  {
   "cell_type": "code",
   "execution_count": 116,
   "metadata": {},
   "outputs": [],
   "source": [
    "# X_resampled, y_resampled = ros.fit_resample(comments_list, target_train)"
   ]
  },
  {
   "cell_type": "markdown",
   "metadata": {},
   "source": [
    "The SMOTE method is an issue with text. Will first try balancing samples in brute force approach."
   ]
  },
  {
   "cell_type": "code",
   "execution_count": 117,
   "metadata": {},
   "outputs": [
    {
     "data": {
      "text/plain": [
       "7869"
      ]
     },
     "execution_count": 117,
     "metadata": {},
     "output_type": "execute_result"
    }
   ],
   "source": [
    "target_train.get_values().sum()"
   ]
  },
  {
   "cell_type": "markdown",
   "metadata": {},
   "source": [
    "7869 comments in the train data were selected by editors. I'll concat two new dataframes of this length for balanced sample."
   ]
  },
  {
   "cell_type": "code",
   "execution_count": 118,
   "metadata": {},
   "outputs": [],
   "source": [
    "selected = train[train['editorsSelection']==1]\n",
    "non_selected = train[train['editorsSelection']==0]"
   ]
  },
  {
   "cell_type": "code",
   "execution_count": 119,
   "metadata": {},
   "outputs": [
    {
     "data": {
      "text/plain": [
       "(7869, 34)"
      ]
     },
     "execution_count": 119,
     "metadata": {},
     "output_type": "execute_result"
    }
   ],
   "source": [
    "selected.shape"
   ]
  },
  {
   "cell_type": "code",
   "execution_count": 120,
   "metadata": {},
   "outputs": [
    {
     "data": {
      "text/plain": [
       "(7869, 34)"
      ]
     },
     "execution_count": 120,
     "metadata": {},
     "output_type": "execute_result"
    }
   ],
   "source": [
    "non_selected_sample = non_selected.sample(7869)\n",
    "non_selected_sample.shape"
   ]
  },
  {
   "cell_type": "code",
   "execution_count": 121,
   "metadata": {},
   "outputs": [],
   "source": [
    "# concat the dataframes\n",
    "df_nlp = pd.concat([selected, non_selected_sample], axis=0)\n",
    "# df_nlp.info()"
   ]
  },
  {
   "cell_type": "code",
   "execution_count": 135,
   "metadata": {},
   "outputs": [
    {
     "data": {
      "text/plain": [
       "(15738,)"
      ]
     },
     "execution_count": 135,
     "metadata": {},
     "output_type": "execute_result"
    }
   ],
   "source": [
    "df_comments_train = df_nlp['commentBody'] \n",
    "df_comments_train.shape"
   ]
  },
  {
   "cell_type": "code",
   "execution_count": 123,
   "metadata": {},
   "outputs": [],
   "source": [
    "df_target_train = df_nlp['editorsSelection']"
   ]
  },
  {
   "cell_type": "code",
   "execution_count": 124,
   "metadata": {},
   "outputs": [],
   "source": [
    "#perform classification "
   ]
  },
  {
   "cell_type": "code",
   "execution_count": 125,
   "metadata": {},
   "outputs": [],
   "source": [
    "vectorizer = TfidfVectorizer()"
   ]
  },
  {
   "cell_type": "code",
   "execution_count": 136,
   "metadata": {},
   "outputs": [],
   "source": [
    "tf_idf_data_train = vectorizer.fit_transform(df_comments_train)"
   ]
  },
  {
   "cell_type": "code",
   "execution_count": 137,
   "metadata": {},
   "outputs": [],
   "source": [
    "tf_idf_data_test = vectorizer.transform(comments_test)\n",
    "#using only subset to make train ~25%"
   ]
  },
  {
   "cell_type": "code",
   "execution_count": 138,
   "metadata": {},
   "outputs": [
    {
     "name": "stdout",
     "output_type": "stream",
     "text": [
      "Average Number of Non-Zero Elements in Vectorized Articles: 63.69614944719787\n",
      "Percentage of columns containing 0: 0.99827531275189\n"
     ]
    }
   ],
   "source": [
    "non_zero_cols = tf_idf_data_train.nnz / float(tf_idf_data_train.shape[0])\n",
    "print(\"Average Number of Non-Zero Elements in Vectorized Articles: {}\".format(non_zero_cols))\n",
    "\n",
    "percent_sparse = 1 - (non_zero_cols / float(tf_idf_data_train.shape[1]))\n",
    "print('Percentage of columns containing 0: {}'.format(percent_sparse))\n",
    "##double check the equation"
   ]
  },
  {
   "cell_type": "code",
   "execution_count": 139,
   "metadata": {},
   "outputs": [],
   "source": [
    "nb_classifier = MultinomialNB()\n",
    "rf_classifier = RandomForestClassifier(n_estimators=10)\n",
    "#should this be 100?"
   ]
  },
  {
   "cell_type": "code",
   "execution_count": 140,
   "metadata": {},
   "outputs": [],
   "source": [
    "nb_classifier.fit(tf_idf_data_train, df_target_train)\n",
    "nb_train_preds = nb_classifier.predict(tf_idf_data_train)\n",
    "nb_test_preds = nb_classifier.predict(tf_idf_data_test)"
   ]
  },
  {
   "cell_type": "code",
   "execution_count": 141,
   "metadata": {},
   "outputs": [],
   "source": [
    "rf_classifier.fit(tf_idf_data_train, df_target_train)\n",
    "rf_train_preds = rf_classifier.predict(tf_idf_data_train)\n",
    "rf_test_preds = rf_classifier.predict(tf_idf_data_test)"
   ]
  },
  {
   "cell_type": "code",
   "execution_count": 142,
   "metadata": {},
   "outputs": [],
   "source": [
    "nb_train_score = accuracy_score(df_target_train, nb_train_preds)\n",
    "nb_test_score = accuracy_score(target_test, nb_test_preds)\n",
    "rf_train_score = accuracy_score(df_target_train, rf_train_preds)\n",
    "rf_test_score = accuracy_score(target_test, rf_test_preds)"
   ]
  },
  {
   "cell_type": "code",
   "execution_count": 144,
   "metadata": {},
   "outputs": [
    {
     "name": "stdout",
     "output_type": "stream",
     "text": [
      "NB Classification report:\n",
      "              precision    recall  f1-score   support\n",
      "\n",
      "           0       0.99      0.20      0.33     97910\n",
      "           1       0.02      0.93      0.05      2089\n",
      "\n",
      "   micro avg       0.21      0.21      0.21     99999\n",
      "   macro avg       0.51      0.56      0.19     99999\n",
      "weighted avg       0.97      0.21      0.33     99999\n",
      "\n",
      "-----------------------------------------------------\n",
      "RF Classification report:\n",
      "              precision    recall  f1-score   support\n",
      "\n",
      "           0       0.99      0.69      0.81     97910\n",
      "           1       0.04      0.57      0.07      2089\n",
      "\n",
      "   micro avg       0.69      0.69      0.69     99999\n",
      "   macro avg       0.51      0.63      0.44     99999\n",
      "weighted avg       0.97      0.69      0.79     99999\n",
      "\n"
     ]
    }
   ],
   "source": [
    "print('NB Classification report:')\n",
    "print(classification_report(target_test, nb_test_preds))\n",
    "print(\"-----------------------------------------------------\")\n",
    "print('RF Classification report:')\n",
    "print(classification_report(target_test, rf_test_preds))"
   ]
  },
  {
   "cell_type": "code",
   "execution_count": 134,
   "metadata": {},
   "outputs": [],
   "source": [
    "#very slight improvement"
   ]
  },
  {
   "cell_type": "code",
   "execution_count": null,
   "metadata": {},
   "outputs": [],
   "source": [
    "#recall is high because"
   ]
  },
  {
   "cell_type": "code",
   "execution_count": null,
   "metadata": {},
   "outputs": [],
   "source": [
    "#issues are: 1. brute force oversampling 2. the test set is significantly greater than train set"
   ]
  },
  {
   "cell_type": "code",
   "execution_count": null,
   "metadata": {},
   "outputs": [],
   "source": []
  },
  {
   "cell_type": "code",
   "execution_count": null,
   "metadata": {},
   "outputs": [],
   "source": []
  }
 ],
 "metadata": {
  "kernelspec": {
   "display_name": "Python 3",
   "language": "python",
   "name": "python3"
  },
  "language_info": {
   "codemirror_mode": {
    "name": "ipython",
    "version": 3
   },
   "file_extension": ".py",
   "mimetype": "text/x-python",
   "name": "python",
   "nbconvert_exporter": "python",
   "pygments_lexer": "ipython3",
   "version": "3.6.6"
  }
 },
 "nbformat": 4,
 "nbformat_minor": 2
}
